{
 "cells": [
  {
   "cell_type": "markdown",
   "metadata": {},
   "source": [
    "# PPS - Etapa II"
   ]
  },
  {
   "cell_type": "markdown",
   "metadata": {},
   "source": [
    "## Librerías"
   ]
  },
  {
   "cell_type": "code",
   "execution_count": 1,
   "metadata": {},
   "outputs": [],
   "source": [
    "#Librerías generales\n",
    "import numpy as np \n",
    "import pandas as pd\n",
    "import matplotlib.pyplot as plt\n",
    "from sklearn.preprocessing import StandardScaler \n",
    "from sklearn.model_selection import train_test_split\n",
    "import seaborn as sns\n",
    "import matplotlib.pyplot as plt\n",
    "from imblearn.over_sampling import SMOTE\n"
   ]
  },
  {
   "cell_type": "code",
   "execution_count": 2,
   "metadata": {},
   "outputs": [],
   "source": [
    "#Modelos de regresión\n",
    "\n",
    "from sklearn import svm\n",
    "from sklearn.svm import SVR\n",
    "from sklearn.neighbors import KNeighborsRegressor\n",
    "from sklearn.ensemble import RandomForestRegressor\n",
    "from sklearn.metrics import mean_squared_error, r2_score\n",
    "from scipy.stats import pearsonr\n",
    "from sklearn.metrics import mean_absolute_error"
   ]
  },
  {
   "cell_type": "code",
   "execution_count": 3,
   "metadata": {},
   "outputs": [],
   "source": [
    "#Redes neuronales\n",
    "\n",
    "import tensorflow as tf\n",
    "from tensorflow import keras\n",
    "from tensorflow.keras.models import load_model\n",
    "from keras.regularizers import l2\n",
    "from keras.utils import to_categorical\n",
    "from tensorflow.keras.metrics import Precision, Recall, AUC, F1Score, Accuracy\n",
    "from tensorflow.keras import regularizers\n",
    "from tensorflow.keras.layers import BatchNormalization\n",
    "from tensorflow.keras.callbacks import EarlyStopping\n",
    "from tensorflow.keras.callbacks import ModelCheckpoint"
   ]
  },
  {
   "cell_type": "code",
   "execution_count": 4,
   "metadata": {},
   "outputs": [],
   "source": [
    "#Modelos de clasificación\n",
    "\n",
    "from sklearn.linear_model import LogisticRegression\n",
    "from sklearn.tree import DecisionTreeClassifier\n",
    "from sklearn.ensemble import RandomForestClassifier\n",
    "from sklearn.svm import SVC\n",
    "from sklearn.metrics import confusion_matrix, classification_report\n",
    "from sklearn.model_selection import GridSearchCV\n",
    "from joblib import dump\n",
    "from joblib import load\n",
    "from sklearn.ensemble import ExtraTreesClassifier"
   ]
  },
  {
   "cell_type": "markdown",
   "metadata": {},
   "source": [
    "## Modelos de regresión"
   ]
  },
  {
   "cell_type": "markdown",
   "metadata": {},
   "source": [
    "Comiendo el análisis predictivo con modelos de regresión."
   ]
  },
  {
   "cell_type": "markdown",
   "metadata": {},
   "source": [
    "### Modelos tradicionales"
   ]
  },
  {
   "cell_type": "markdown",
   "metadata": {},
   "source": [
    "#### Datos"
   ]
  },
  {
   "cell_type": "markdown",
   "metadata": {},
   "source": [
    "Cargo los datos con la columna 8 como target ya que es ELAPSED_DAYS y contiene la cantidad de días que le llevó al soporte resolver el ticket."
   ]
  },
  {
   "cell_type": "code",
   "execution_count": 5,
   "metadata": {},
   "outputs": [],
   "source": [
    "datos=np.loadtxt('..\\Archivos\\data_req_inc_3.csv',delimiter=',',skiprows=1, usecols=(0,1,2,3,4,5,6,7,9,10,11,12,8))\n",
    "\n",
    "x=datos[:,0:-1]\n",
    "\n",
    "y=datos[:,-1]"
   ]
  },
  {
   "cell_type": "markdown",
   "metadata": {},
   "source": [
    "Divido los datos en conjuntos de train:test 80:20"
   ]
  },
  {
   "cell_type": "code",
   "execution_count": 6,
   "metadata": {},
   "outputs": [],
   "source": [
    "x_train, x_test, y_train, y_test = train_test_split(x, y, test_size=0.2, random_state=369)\n",
    "\n",
    "scaler = StandardScaler()\n",
    "x_train_s = scaler.fit(x_train)\n",
    "x_train_s = scaler.transform(x_train)\n",
    "x_test_s = scaler.transform(x_test)"
   ]
  },
  {
   "cell_type": "markdown",
   "metadata": {},
   "source": [
    "Aplico el entrenamiento y evaluación con Support Vectors, KNN Regressor y Random Forest"
   ]
  },
  {
   "cell_type": "markdown",
   "metadata": {},
   "source": [
    "#### Support Vectors"
   ]
  },
  {
   "cell_type": "code",
   "execution_count": 7,
   "metadata": {},
   "outputs": [
    {
     "data": {
      "text/html": [
       "<style>#sk-container-id-1 {color: black;}#sk-container-id-1 pre{padding: 0;}#sk-container-id-1 div.sk-toggleable {background-color: white;}#sk-container-id-1 label.sk-toggleable__label {cursor: pointer;display: block;width: 100%;margin-bottom: 0;padding: 0.3em;box-sizing: border-box;text-align: center;}#sk-container-id-1 label.sk-toggleable__label-arrow:before {content: \"▸\";float: left;margin-right: 0.25em;color: #696969;}#sk-container-id-1 label.sk-toggleable__label-arrow:hover:before {color: black;}#sk-container-id-1 div.sk-estimator:hover label.sk-toggleable__label-arrow:before {color: black;}#sk-container-id-1 div.sk-toggleable__content {max-height: 0;max-width: 0;overflow: hidden;text-align: left;background-color: #f0f8ff;}#sk-container-id-1 div.sk-toggleable__content pre {margin: 0.2em;color: black;border-radius: 0.25em;background-color: #f0f8ff;}#sk-container-id-1 input.sk-toggleable__control:checked~div.sk-toggleable__content {max-height: 200px;max-width: 100%;overflow: auto;}#sk-container-id-1 input.sk-toggleable__control:checked~label.sk-toggleable__label-arrow:before {content: \"▾\";}#sk-container-id-1 div.sk-estimator input.sk-toggleable__control:checked~label.sk-toggleable__label {background-color: #d4ebff;}#sk-container-id-1 div.sk-label input.sk-toggleable__control:checked~label.sk-toggleable__label {background-color: #d4ebff;}#sk-container-id-1 input.sk-hidden--visually {border: 0;clip: rect(1px 1px 1px 1px);clip: rect(1px, 1px, 1px, 1px);height: 1px;margin: -1px;overflow: hidden;padding: 0;position: absolute;width: 1px;}#sk-container-id-1 div.sk-estimator {font-family: monospace;background-color: #f0f8ff;border: 1px dotted black;border-radius: 0.25em;box-sizing: border-box;margin-bottom: 0.5em;}#sk-container-id-1 div.sk-estimator:hover {background-color: #d4ebff;}#sk-container-id-1 div.sk-parallel-item::after {content: \"\";width: 100%;border-bottom: 1px solid gray;flex-grow: 1;}#sk-container-id-1 div.sk-label:hover label.sk-toggleable__label {background-color: #d4ebff;}#sk-container-id-1 div.sk-serial::before {content: \"\";position: absolute;border-left: 1px solid gray;box-sizing: border-box;top: 0;bottom: 0;left: 50%;z-index: 0;}#sk-container-id-1 div.sk-serial {display: flex;flex-direction: column;align-items: center;background-color: white;padding-right: 0.2em;padding-left: 0.2em;position: relative;}#sk-container-id-1 div.sk-item {position: relative;z-index: 1;}#sk-container-id-1 div.sk-parallel {display: flex;align-items: stretch;justify-content: center;background-color: white;position: relative;}#sk-container-id-1 div.sk-item::before, #sk-container-id-1 div.sk-parallel-item::before {content: \"\";position: absolute;border-left: 1px solid gray;box-sizing: border-box;top: 0;bottom: 0;left: 50%;z-index: -1;}#sk-container-id-1 div.sk-parallel-item {display: flex;flex-direction: column;z-index: 1;position: relative;background-color: white;}#sk-container-id-1 div.sk-parallel-item:first-child::after {align-self: flex-end;width: 50%;}#sk-container-id-1 div.sk-parallel-item:last-child::after {align-self: flex-start;width: 50%;}#sk-container-id-1 div.sk-parallel-item:only-child::after {width: 0;}#sk-container-id-1 div.sk-dashed-wrapped {border: 1px dashed gray;margin: 0 0.4em 0.5em 0.4em;box-sizing: border-box;padding-bottom: 0.4em;background-color: white;}#sk-container-id-1 div.sk-label label {font-family: monospace;font-weight: bold;display: inline-block;line-height: 1.2em;}#sk-container-id-1 div.sk-label-container {text-align: center;}#sk-container-id-1 div.sk-container {/* jupyter's `normalize.less` sets `[hidden] { display: none; }` but bootstrap.min.css set `[hidden] { display: none !important; }` so we also need the `!important` here to be able to override the default hidden behavior on the sphinx rendered scikit-learn.org. See: https://github.com/scikit-learn/scikit-learn/issues/21755 */display: inline-block !important;position: relative;}#sk-container-id-1 div.sk-text-repr-fallback {display: none;}</style><div id=\"sk-container-id-1\" class=\"sk-top-container\"><div class=\"sk-text-repr-fallback\"><pre>SVR(C=0.5, coef0=2, degree=4, epsilon=0.3, gamma=&#x27;auto&#x27;, kernel=&#x27;poly&#x27;)</pre><b>In a Jupyter environment, please rerun this cell to show the HTML representation or trust the notebook. <br />On GitHub, the HTML representation is unable to render, please try loading this page with nbviewer.org.</b></div><div class=\"sk-container\" hidden><div class=\"sk-item\"><div class=\"sk-estimator sk-toggleable\"><input class=\"sk-toggleable__control sk-hidden--visually\" id=\"sk-estimator-id-1\" type=\"checkbox\" checked><label for=\"sk-estimator-id-1\" class=\"sk-toggleable__label sk-toggleable__label-arrow\">SVR</label><div class=\"sk-toggleable__content\"><pre>SVR(C=0.5, coef0=2, degree=4, epsilon=0.3, gamma=&#x27;auto&#x27;, kernel=&#x27;poly&#x27;)</pre></div></div></div></div></div>"
      ],
      "text/plain": [
       "SVR(C=0.5, coef0=2, degree=4, epsilon=0.3, gamma='auto', kernel='poly')"
      ]
     },
     "execution_count": 7,
     "metadata": {},
     "output_type": "execute_result"
    }
   ],
   "source": [
    "regr = svm.SVR(kernel='poly', C=0.5, epsilon=0.3, gamma='auto', coef0 = 2, degree = 4)\n",
    "\n",
    "regr.fit(x_train_s, y_train)\n"
   ]
  },
  {
   "cell_type": "code",
   "execution_count": 8,
   "metadata": {},
   "outputs": [],
   "source": [
    "y_pred = regr.predict(x_test_s)"
   ]
  },
  {
   "cell_type": "code",
   "execution_count": 9,
   "metadata": {},
   "outputs": [
    {
     "name": "stdout",
     "output_type": "stream",
     "text": [
      "Coeficiente de Pearson: 0.3323576909277397\n",
      "MAE: 18.6523497233098\n",
      "MSE: 1025.0164821554442\n",
      "R^2: 0.011086650638258644\n"
     ]
    }
   ],
   "source": [
    "mse = mean_squared_error(y_test, y_pred)\n",
    "r2 = r2_score(y_test, y_pred)\n",
    "mae = mean_absolute_error(y_test, y_pred)\n",
    "corr, _ = pearsonr(y_test, y_pred)\n",
    "\n",
    "print(f'Coeficiente de Pearson: {corr}')\n",
    "print(f'MAE: {mae}')\n",
    "print(f'MSE: {mse}')\n",
    "print(f'R^2: {r2}')"
   ]
  },
  {
   "cell_type": "markdown",
   "metadata": {},
   "source": [
    "#### KNN Regressor"
   ]
  },
  {
   "cell_type": "code",
   "execution_count": 11,
   "metadata": {},
   "outputs": [
    {
     "data": {
      "text/html": [
       "<style>#sk-container-id-2 {color: black;}#sk-container-id-2 pre{padding: 0;}#sk-container-id-2 div.sk-toggleable {background-color: white;}#sk-container-id-2 label.sk-toggleable__label {cursor: pointer;display: block;width: 100%;margin-bottom: 0;padding: 0.3em;box-sizing: border-box;text-align: center;}#sk-container-id-2 label.sk-toggleable__label-arrow:before {content: \"▸\";float: left;margin-right: 0.25em;color: #696969;}#sk-container-id-2 label.sk-toggleable__label-arrow:hover:before {color: black;}#sk-container-id-2 div.sk-estimator:hover label.sk-toggleable__label-arrow:before {color: black;}#sk-container-id-2 div.sk-toggleable__content {max-height: 0;max-width: 0;overflow: hidden;text-align: left;background-color: #f0f8ff;}#sk-container-id-2 div.sk-toggleable__content pre {margin: 0.2em;color: black;border-radius: 0.25em;background-color: #f0f8ff;}#sk-container-id-2 input.sk-toggleable__control:checked~div.sk-toggleable__content {max-height: 200px;max-width: 100%;overflow: auto;}#sk-container-id-2 input.sk-toggleable__control:checked~label.sk-toggleable__label-arrow:before {content: \"▾\";}#sk-container-id-2 div.sk-estimator input.sk-toggleable__control:checked~label.sk-toggleable__label {background-color: #d4ebff;}#sk-container-id-2 div.sk-label input.sk-toggleable__control:checked~label.sk-toggleable__label {background-color: #d4ebff;}#sk-container-id-2 input.sk-hidden--visually {border: 0;clip: rect(1px 1px 1px 1px);clip: rect(1px, 1px, 1px, 1px);height: 1px;margin: -1px;overflow: hidden;padding: 0;position: absolute;width: 1px;}#sk-container-id-2 div.sk-estimator {font-family: monospace;background-color: #f0f8ff;border: 1px dotted black;border-radius: 0.25em;box-sizing: border-box;margin-bottom: 0.5em;}#sk-container-id-2 div.sk-estimator:hover {background-color: #d4ebff;}#sk-container-id-2 div.sk-parallel-item::after {content: \"\";width: 100%;border-bottom: 1px solid gray;flex-grow: 1;}#sk-container-id-2 div.sk-label:hover label.sk-toggleable__label {background-color: #d4ebff;}#sk-container-id-2 div.sk-serial::before {content: \"\";position: absolute;border-left: 1px solid gray;box-sizing: border-box;top: 0;bottom: 0;left: 50%;z-index: 0;}#sk-container-id-2 div.sk-serial {display: flex;flex-direction: column;align-items: center;background-color: white;padding-right: 0.2em;padding-left: 0.2em;position: relative;}#sk-container-id-2 div.sk-item {position: relative;z-index: 1;}#sk-container-id-2 div.sk-parallel {display: flex;align-items: stretch;justify-content: center;background-color: white;position: relative;}#sk-container-id-2 div.sk-item::before, #sk-container-id-2 div.sk-parallel-item::before {content: \"\";position: absolute;border-left: 1px solid gray;box-sizing: border-box;top: 0;bottom: 0;left: 50%;z-index: -1;}#sk-container-id-2 div.sk-parallel-item {display: flex;flex-direction: column;z-index: 1;position: relative;background-color: white;}#sk-container-id-2 div.sk-parallel-item:first-child::after {align-self: flex-end;width: 50%;}#sk-container-id-2 div.sk-parallel-item:last-child::after {align-self: flex-start;width: 50%;}#sk-container-id-2 div.sk-parallel-item:only-child::after {width: 0;}#sk-container-id-2 div.sk-dashed-wrapped {border: 1px dashed gray;margin: 0 0.4em 0.5em 0.4em;box-sizing: border-box;padding-bottom: 0.4em;background-color: white;}#sk-container-id-2 div.sk-label label {font-family: monospace;font-weight: bold;display: inline-block;line-height: 1.2em;}#sk-container-id-2 div.sk-label-container {text-align: center;}#sk-container-id-2 div.sk-container {/* jupyter's `normalize.less` sets `[hidden] { display: none; }` but bootstrap.min.css set `[hidden] { display: none !important; }` so we also need the `!important` here to be able to override the default hidden behavior on the sphinx rendered scikit-learn.org. See: https://github.com/scikit-learn/scikit-learn/issues/21755 */display: inline-block !important;position: relative;}#sk-container-id-2 div.sk-text-repr-fallback {display: none;}</style><div id=\"sk-container-id-2\" class=\"sk-top-container\"><div class=\"sk-text-repr-fallback\"><pre>KNeighborsRegressor(metric=&#x27;manhattan&#x27;, n_neighbors=10, weights=&#x27;distance&#x27;)</pre><b>In a Jupyter environment, please rerun this cell to show the HTML representation or trust the notebook. <br />On GitHub, the HTML representation is unable to render, please try loading this page with nbviewer.org.</b></div><div class=\"sk-container\" hidden><div class=\"sk-item\"><div class=\"sk-estimator sk-toggleable\"><input class=\"sk-toggleable__control sk-hidden--visually\" id=\"sk-estimator-id-2\" type=\"checkbox\" checked><label for=\"sk-estimator-id-2\" class=\"sk-toggleable__label sk-toggleable__label-arrow\">KNeighborsRegressor</label><div class=\"sk-toggleable__content\"><pre>KNeighborsRegressor(metric=&#x27;manhattan&#x27;, n_neighbors=10, weights=&#x27;distance&#x27;)</pre></div></div></div></div></div>"
      ],
      "text/plain": [
       "KNeighborsRegressor(metric='manhattan', n_neighbors=10, weights='distance')"
      ]
     },
     "execution_count": 11,
     "metadata": {},
     "output_type": "execute_result"
    }
   ],
   "source": [
    "knn_regressor = KNeighborsRegressor(n_neighbors=10, weights='distance', metric = 'manhattan') \n",
    "knn_regressor.fit(x_train_s, y_train)"
   ]
  },
  {
   "cell_type": "code",
   "execution_count": 12,
   "metadata": {},
   "outputs": [],
   "source": [
    "y_pred = knn_regressor.predict(x_test_s)"
   ]
  },
  {
   "cell_type": "code",
   "execution_count": 13,
   "metadata": {},
   "outputs": [
    {
     "name": "stdout",
     "output_type": "stream",
     "text": [
      "Coeficiente de Pearson: 0.5930867366687325\n",
      "MAE: 15.847642800839193\n",
      "MSE: 702.9641608386487\n",
      "R^2: 0.32179564438380315\n"
     ]
    }
   ],
   "source": [
    "mse = mean_squared_error(y_test, y_pred)\n",
    "r2 = r2_score(y_test, y_pred)\n",
    "mae = mean_absolute_error(y_test, y_pred)\n",
    "corr, _ = pearsonr(y_test, y_pred)\n",
    "\n",
    "print(f'Coeficiente de Pearson: {corr}')\n",
    "print(f'MAE: {mae}')\n",
    "print(f'MSE: {mse}')\n",
    "print(f'R^2: {r2}')"
   ]
  },
  {
   "cell_type": "markdown",
   "metadata": {},
   "source": [
    "#### Random Forest"
   ]
  },
  {
   "cell_type": "code",
   "execution_count": 14,
   "metadata": {},
   "outputs": [
    {
     "data": {
      "text/html": [
       "<style>#sk-container-id-3 {color: black;}#sk-container-id-3 pre{padding: 0;}#sk-container-id-3 div.sk-toggleable {background-color: white;}#sk-container-id-3 label.sk-toggleable__label {cursor: pointer;display: block;width: 100%;margin-bottom: 0;padding: 0.3em;box-sizing: border-box;text-align: center;}#sk-container-id-3 label.sk-toggleable__label-arrow:before {content: \"▸\";float: left;margin-right: 0.25em;color: #696969;}#sk-container-id-3 label.sk-toggleable__label-arrow:hover:before {color: black;}#sk-container-id-3 div.sk-estimator:hover label.sk-toggleable__label-arrow:before {color: black;}#sk-container-id-3 div.sk-toggleable__content {max-height: 0;max-width: 0;overflow: hidden;text-align: left;background-color: #f0f8ff;}#sk-container-id-3 div.sk-toggleable__content pre {margin: 0.2em;color: black;border-radius: 0.25em;background-color: #f0f8ff;}#sk-container-id-3 input.sk-toggleable__control:checked~div.sk-toggleable__content {max-height: 200px;max-width: 100%;overflow: auto;}#sk-container-id-3 input.sk-toggleable__control:checked~label.sk-toggleable__label-arrow:before {content: \"▾\";}#sk-container-id-3 div.sk-estimator input.sk-toggleable__control:checked~label.sk-toggleable__label {background-color: #d4ebff;}#sk-container-id-3 div.sk-label input.sk-toggleable__control:checked~label.sk-toggleable__label {background-color: #d4ebff;}#sk-container-id-3 input.sk-hidden--visually {border: 0;clip: rect(1px 1px 1px 1px);clip: rect(1px, 1px, 1px, 1px);height: 1px;margin: -1px;overflow: hidden;padding: 0;position: absolute;width: 1px;}#sk-container-id-3 div.sk-estimator {font-family: monospace;background-color: #f0f8ff;border: 1px dotted black;border-radius: 0.25em;box-sizing: border-box;margin-bottom: 0.5em;}#sk-container-id-3 div.sk-estimator:hover {background-color: #d4ebff;}#sk-container-id-3 div.sk-parallel-item::after {content: \"\";width: 100%;border-bottom: 1px solid gray;flex-grow: 1;}#sk-container-id-3 div.sk-label:hover label.sk-toggleable__label {background-color: #d4ebff;}#sk-container-id-3 div.sk-serial::before {content: \"\";position: absolute;border-left: 1px solid gray;box-sizing: border-box;top: 0;bottom: 0;left: 50%;z-index: 0;}#sk-container-id-3 div.sk-serial {display: flex;flex-direction: column;align-items: center;background-color: white;padding-right: 0.2em;padding-left: 0.2em;position: relative;}#sk-container-id-3 div.sk-item {position: relative;z-index: 1;}#sk-container-id-3 div.sk-parallel {display: flex;align-items: stretch;justify-content: center;background-color: white;position: relative;}#sk-container-id-3 div.sk-item::before, #sk-container-id-3 div.sk-parallel-item::before {content: \"\";position: absolute;border-left: 1px solid gray;box-sizing: border-box;top: 0;bottom: 0;left: 50%;z-index: -1;}#sk-container-id-3 div.sk-parallel-item {display: flex;flex-direction: column;z-index: 1;position: relative;background-color: white;}#sk-container-id-3 div.sk-parallel-item:first-child::after {align-self: flex-end;width: 50%;}#sk-container-id-3 div.sk-parallel-item:last-child::after {align-self: flex-start;width: 50%;}#sk-container-id-3 div.sk-parallel-item:only-child::after {width: 0;}#sk-container-id-3 div.sk-dashed-wrapped {border: 1px dashed gray;margin: 0 0.4em 0.5em 0.4em;box-sizing: border-box;padding-bottom: 0.4em;background-color: white;}#sk-container-id-3 div.sk-label label {font-family: monospace;font-weight: bold;display: inline-block;line-height: 1.2em;}#sk-container-id-3 div.sk-label-container {text-align: center;}#sk-container-id-3 div.sk-container {/* jupyter's `normalize.less` sets `[hidden] { display: none; }` but bootstrap.min.css set `[hidden] { display: none !important; }` so we also need the `!important` here to be able to override the default hidden behavior on the sphinx rendered scikit-learn.org. See: https://github.com/scikit-learn/scikit-learn/issues/21755 */display: inline-block !important;position: relative;}#sk-container-id-3 div.sk-text-repr-fallback {display: none;}</style><div id=\"sk-container-id-3\" class=\"sk-top-container\"><div class=\"sk-text-repr-fallback\"><pre>RandomForestRegressor(n_estimators=150, random_state=42)</pre><b>In a Jupyter environment, please rerun this cell to show the HTML representation or trust the notebook. <br />On GitHub, the HTML representation is unable to render, please try loading this page with nbviewer.org.</b></div><div class=\"sk-container\" hidden><div class=\"sk-item\"><div class=\"sk-estimator sk-toggleable\"><input class=\"sk-toggleable__control sk-hidden--visually\" id=\"sk-estimator-id-3\" type=\"checkbox\" checked><label for=\"sk-estimator-id-3\" class=\"sk-toggleable__label sk-toggleable__label-arrow\">RandomForestRegressor</label><div class=\"sk-toggleable__content\"><pre>RandomForestRegressor(n_estimators=150, random_state=42)</pre></div></div></div></div></div>"
      ],
      "text/plain": [
       "RandomForestRegressor(n_estimators=150, random_state=42)"
      ]
     },
     "execution_count": 14,
     "metadata": {},
     "output_type": "execute_result"
    }
   ],
   "source": [
    "random_forest_regressor = RandomForestRegressor(n_estimators=150, random_state=42)  \n",
    "random_forest_regressor.fit(x_train, y_train)"
   ]
  },
  {
   "cell_type": "code",
   "execution_count": 15,
   "metadata": {},
   "outputs": [],
   "source": [
    "y_pred = random_forest_regressor.predict(x_test)"
   ]
  },
  {
   "cell_type": "code",
   "execution_count": 16,
   "metadata": {},
   "outputs": [
    {
     "name": "stdout",
     "output_type": "stream",
     "text": [
      "Coeficiente de Pearson: 0.6301317403325453\n",
      "MAE: 16.985540661666164\n",
      "MSE: 645.5985504645688\n",
      "R^2: 0.3771407231028485\n"
     ]
    }
   ],
   "source": [
    "mse = mean_squared_error(y_test, y_pred)\n",
    "r2 = r2_score(y_test, y_pred)\n",
    "mae = mean_absolute_error(y_test, y_pred)\n",
    "corr, _ = pearsonr(y_test, y_pred)\n",
    "\n",
    "print(f'Coeficiente de Pearson: {corr}')\n",
    "print(f'MAE: {mae}')\n",
    "print(f'MSE: {mse}')\n",
    "print(f'R^2: {r2}')"
   ]
  },
  {
   "cell_type": "markdown",
   "metadata": {},
   "source": [
    "### Redes neuronales"
   ]
  },
  {
   "cell_type": "markdown",
   "metadata": {},
   "source": [
    "#### Datos"
   ]
  },
  {
   "cell_type": "markdown",
   "metadata": {},
   "source": [
    "Cargo nuevamente el dataset pero esta vez lo separo en train:valid:test 80:10:10"
   ]
  },
  {
   "cell_type": "code",
   "execution_count": 24,
   "metadata": {},
   "outputs": [],
   "source": [
    "datos=np.loadtxt('..\\Archivos\\data_req_inc_3.csv',delimiter=',',skiprows=1, usecols=(0,1,2,3,4,5,6,7,9,10,11,12,8))\n",
    "\n",
    "x=datos[:,0:-1]\n",
    "\n",
    "y=datos[:,-1]\n",
    "\n",
    "x_train, x_test, y_train, y_test = train_test_split(x, y, test_size=0.2, random_state=19)\n",
    "x_val, x_test, y_val, y_test = train_test_split(x_test, y_test, test_size=0.5, random_state=12)\n",
    "\n",
    "scaler = StandardScaler()\n",
    "scaler.fit(x_train)\n",
    "x_train= scaler.transform(x_train)\n",
    "x_test = scaler.transform(x_test)\n",
    "x_val = scaler.transform(x_val)"
   ]
  },
  {
   "cell_type": "markdown",
   "metadata": {},
   "source": [
    "Exploro las dimensiones de los conjuntos creados"
   ]
  },
  {
   "cell_type": "code",
   "execution_count": 813,
   "metadata": {},
   "outputs": [
    {
     "data": {
      "text/plain": [
       "(1991, 12)"
      ]
     },
     "execution_count": 813,
     "metadata": {},
     "output_type": "execute_result"
    }
   ],
   "source": [
    "x_train.shape"
   ]
  },
  {
   "cell_type": "code",
   "execution_count": 814,
   "metadata": {},
   "outputs": [
    {
     "data": {
      "text/plain": [
       "(249, 12)"
      ]
     },
     "execution_count": 814,
     "metadata": {},
     "output_type": "execute_result"
    }
   ],
   "source": [
    "x_test.shape"
   ]
  },
  {
   "cell_type": "code",
   "execution_count": 815,
   "metadata": {},
   "outputs": [
    {
     "data": {
      "text/plain": [
       "(249, 12)"
      ]
     },
     "execution_count": 815,
     "metadata": {},
     "output_type": "execute_result"
    }
   ],
   "source": [
    "x_val.shape"
   ]
  },
  {
   "cell_type": "markdown",
   "metadata": {},
   "source": [
    "#### Entrenamiento y evaluación"
   ]
  },
  {
   "cell_type": "markdown",
   "metadata": {},
   "source": [
    "Defino las estructuras de redes neuronales a utilizar"
   ]
  },
  {
   "cell_type": "code",
   "execution_count": 113,
   "metadata": {},
   "outputs": [],
   "source": [
    "#model1\n",
    "model = keras.Sequential()\n",
    "\n",
    "model.add(keras.layers.Dense(units=64, activation='relu', input_shape=(x_train.shape[1],)))\n",
    "model.add(keras.layers.Dense(units=128, activation='relu'))\n",
    "model.add(keras.layers.Dense(units=64, activation='relu'))\n",
    "model.add(keras.layers.Dense(units=1, activation='linear'))"
   ]
  },
  {
   "cell_type": "code",
   "execution_count": 116,
   "metadata": {},
   "outputs": [],
   "source": [
    "#model2\n",
    "model = keras.Sequential()\n",
    "\n",
    "model.add(keras.layers.Dense(units=64, activation='relu', input_shape=(x_train.shape[1],)))\n",
    "model.add(keras.layers.Dense(units=128, activation='relu'))\n",
    "model.add(keras.layers.Dense(units=128, activation='relu'))\n",
    "model.add(keras.layers.Dropout(0.3))\n",
    "model.add(keras.layers.Dense(units=64, activation='relu'))\n",
    "model.add(keras.layers.Dense(units=1, activation='linear'))"
   ]
  },
  {
   "cell_type": "code",
   "execution_count": 57,
   "metadata": {},
   "outputs": [],
   "source": [
    "#model4\n",
    "model = keras.Sequential()\n",
    "\n",
    "model.add(keras.layers.Dense(units=64, activation='relu', input_shape=(x_train.shape[1],)))\n",
    "model.add(keras.layers.Dense(units=512, activation='relu'))\n",
    "model.add(keras.layers.Dropout(0.3))\n",
    "model.add(keras.layers.Dense(units=512, activation='relu'))\n",
    "model.add(keras.layers.Dropout(0.3))\n",
    "model.add(keras.layers.Dense(units=512, activation='relu'))\n",
    "model.add(keras.layers.Dropout(0.3))\n",
    "model.add(keras.layers.Dense(units=64, activation='relu'))\n",
    "model.add(keras.layers.Dense(units=1, activation='linear'))"
   ]
  },
  {
   "cell_type": "code",
   "execution_count": 109,
   "metadata": {},
   "outputs": [],
   "source": [
    "#model5\n",
    "model = keras.Sequential()\n",
    "\n",
    "model.add(keras.layers.Dense(units=64, activation='relu', input_shape=(x_train.shape[1],)))\n",
    "model.add(keras.layers.Dense(units=1024, activation='relu'))\n",
    "model.add(keras.layers.Dropout(0.4))\n",
    "model.add(keras.layers.Dense(units=1024, activation='relu'))\n",
    "model.add(keras.layers.Dropout(0.4))\n",
    "model.add(keras.layers.Dense(units=64, activation='relu'))\n",
    "model.add(keras.layers.Dense(units=1, activation='linear'))"
   ]
  },
  {
   "cell_type": "code",
   "execution_count": 7,
   "metadata": {},
   "outputs": [],
   "source": [
    "#model6\n",
    "model = keras.Sequential()\n",
    "\n",
    "model.add(keras.layers.Dense(units=64, activation='relu', input_shape=(x_train.shape[1],)))\n",
    "model.add(keras.layers.Dense(units=128, activation='relu'))\n",
    "model.add(keras.layers.Dropout(0.3))\n",
    "model.add(keras.layers.Dense(units=64, activation='relu'))\n",
    "model.add(keras.layers.Dropout(0.1))\n",
    "model.add(keras.layers.Dense(units=1, activation='linear'))"
   ]
  },
  {
   "cell_type": "code",
   "execution_count": 8,
   "metadata": {},
   "outputs": [],
   "source": [
    "adam = tf.keras.optimizers.Adam(learning_rate=0.0001)\n",
    "model.compile(loss='mean_squared_error', optimizer=adam, metrics=['mean_absolute_error'])\n"
   ]
  },
  {
   "cell_type": "code",
   "execution_count": null,
   "metadata": {},
   "outputs": [],
   "source": [
    "model.fit(x_train, y_train, epochs=400, batch_size=64, validation_data=(x_val, y_val))\n"
   ]
  },
  {
   "cell_type": "markdown",
   "metadata": {},
   "source": [
    "Resumen del último epoch:\n",
    "\n",
    "Epoch 400/400\n",
    "32/32 [==============================] - 0s 3ms/step - loss: 727.5162 - mean_absolute_error: 18.3837 - val_loss: 961.5626 - val_mean_absolute_error: 21.2849\n"
   ]
  },
  {
   "cell_type": "markdown",
   "metadata": {},
   "source": [
    "Evaluo el modelo 6 con el conjunto de test."
   ]
  },
  {
   "cell_type": "code",
   "execution_count": 10,
   "metadata": {},
   "outputs": [
    {
     "name": "stdout",
     "output_type": "stream",
     "text": [
      "8/8 [==============================] - 0s 1ms/step\n",
      "MAE: 17.718842983724603\n",
      "MSE: 651.8544430393105\n",
      "R^2: 0.08721332251541614\n"
     ]
    }
   ],
   "source": [
    "y_pred = model.predict(x_test)\n",
    "\n",
    "mse = mean_squared_error(y_test, y_pred)\n",
    "r2 = r2_score(y_test, y_pred)\n",
    "mae = mean_absolute_error(y_test, y_pred)\n",
    "\n",
    "print(f'MAE: {mae}')\n",
    "print(f'MSE: {mse}')\n",
    "print(f'R^2: {r2}')"
   ]
  },
  {
   "cell_type": "markdown",
   "metadata": {},
   "source": [
    "Los modelos explorados tienen un error promedio de 17 días."
   ]
  },
  {
   "cell_type": "markdown",
   "metadata": {},
   "source": [
    "## Modelos de clasificación"
   ]
  },
  {
   "cell_type": "markdown",
   "metadata": {},
   "source": [
    "Inicio el análisis con modelos de clasificación"
   ]
  },
  {
   "cell_type": "markdown",
   "metadata": {},
   "source": [
    "### Modelos tradicionales"
   ]
  },
  {
   "cell_type": "markdown",
   "metadata": {},
   "source": [
    "##### Datos para clasificación con modelos tradicionales"
   ]
  },
  {
   "cell_type": "markdown",
   "metadata": {},
   "source": [
    "Cargo los datos para los modelos de clasificación. En este caso el target es la columna 13 DAYS_RANGE que contiene la clasiicación a la que pertenece cada registro."
   ]
  },
  {
   "cell_type": "code",
   "execution_count": 5,
   "metadata": {},
   "outputs": [],
   "source": [
    "datos=np.loadtxt('..\\Archivos\\data_req_inc_3.csv',delimiter=',',skiprows=1, usecols=(0,1,2,3,4,5,6,7,9,10,11,12,13))\n",
    "\n",
    "x=datos[:,0:-1]\n",
    "\n",
    "y=datos[:,-1]\n",
    "\n",
    "x_train, x_test, y_train, y_test = train_test_split(x, y, test_size=0.20, random_state=369, stratify=y)\n",
    "\n",
    "scaler = StandardScaler()\n",
    "x_train_s = scaler.fit(x_train)\n",
    "x_train_s = scaler.transform(x_train)\n",
    "x_test_s = scaler.transform(x_test)\n"
   ]
  },
  {
   "cell_type": "markdown",
   "metadata": {},
   "source": [
    "#### Función para predecir"
   ]
  },
  {
   "cell_type": "markdown",
   "metadata": {},
   "source": [
    "Creo una función porque voy a usar el mismo procedimiento para los siguientes modelos: Regresión logística, Decision Trees, Random Forest y Search Grid con Random Forest."
   ]
  },
  {
   "cell_type": "code",
   "execution_count": 6,
   "metadata": {},
   "outputs": [],
   "source": [
    "def Aplicar_Modelo(modelo,nombre_modelo, x_train, y_train, x_test, y_test):\n",
    "    \n",
    "    modelo.fit(x_train, y_train)\n",
    "\n",
    "    y_pred = modelo.predict(x_test)\n",
    "\n",
    "    print(f'******Modelo: {nombre_modelo}******')\n",
    "\n",
    "    class_report = classification_report(y_test, y_pred)\n",
    "\n",
    "    print(class_report)\n",
    "\n",
    "    conf_matrix = confusion_matrix(y_test, y_pred)\n",
    "\n",
    "    plt.figure(figsize=(8, 6))\n",
    "    sns.heatmap(conf_matrix, annot=True, fmt=\"d\", cmap=\"Blues\")\n",
    "    plt.xlabel(\"Clase Predicha\")\n",
    "    plt.ylabel(\"Clase Real\")\n",
    "    plt.title(\"Matriz de Confusión\")\n",
    "    \n",
    "    return plt.show()"
   ]
  },
  {
   "cell_type": "markdown",
   "metadata": {},
   "source": [
    "#### Regresión logística"
   ]
  },
  {
   "cell_type": "code",
   "execution_count": 19,
   "metadata": {},
   "outputs": [
    {
     "name": "stdout",
     "output_type": "stream",
     "text": [
      "******Modelo: Logistic Regression******\n",
      "              precision    recall  f1-score   support\n",
      "\n",
      "         0.0       0.48      0.57      0.52       189\n",
      "         1.0       0.26      0.04      0.07       122\n",
      "         2.0       0.52      0.71      0.60       187\n",
      "\n",
      "    accuracy                           0.49       498\n",
      "   macro avg       0.42      0.44      0.40       498\n",
      "weighted avg       0.44      0.49      0.44       498\n",
      "\n"
     ]
    },
    {
     "data": {
      "image/png": "[encoded data removed]",
      "text/plain": [
       "<Figure size 576x432 with 2 Axes>"
      ]
     },
     "metadata": {
      "needs_background": "light"
     },
     "output_type": "display_data"
    }
   ],
   "source": [
    "logistic_R = LogisticRegression(multi_class='multinomial', solver='lbfgs')\n",
    "\n",
    "Aplicar_Modelo(logistic_R, 'Logistic Regression',x_train_s, y_train, x_test_s, y_test)"
   ]
  },
  {
   "cell_type": "markdown",
   "metadata": {},
   "source": [
    "#### Decision Trees"
   ]
  },
  {
   "cell_type": "code",
   "execution_count": 39,
   "metadata": {},
   "outputs": [
    {
     "name": "stdout",
     "output_type": "stream",
     "text": [
      "******Modelo: Decision Tree Classifier******\n",
      "              precision    recall  f1-score   support\n",
      "\n",
      "         0.0       0.58      0.60      0.59       189\n",
      "         1.0       0.37      0.39      0.38       122\n",
      "         2.0       0.63      0.60      0.62       187\n",
      "\n",
      "    accuracy                           0.55       498\n",
      "   macro avg       0.53      0.53      0.53       498\n",
      "weighted avg       0.55      0.55      0.55       498\n",
      "\n"
     ]
    },
    {
     "data": {
      "image/png": "[encoded data removed]",
      "text/plain": [
       "<Figure size 576x432 with 2 Axes>"
      ]
     },
     "metadata": {
      "needs_background": "light"
     },
     "output_type": "display_data"
    }
   ],
   "source": [
    "decision_tree = DecisionTreeClassifier()\n",
    "\n",
    "Aplicar_Modelo(decision_tree, 'Decision Tree Classifier',x_train, y_train, x_test, y_test)\n"
   ]
  },
  {
   "cell_type": "code",
   "execution_count": 8,
   "metadata": {},
   "outputs": [
    {
     "name": "stdout",
     "output_type": "stream",
     "text": [
      "******Modelo: Decision Tree Classifier******\n",
      "              precision    recall  f1-score   support\n",
      "\n",
      "         0.0       0.57      0.58      0.58       189\n",
      "         1.0       0.44      0.49      0.47       122\n",
      "         2.0       0.66      0.60      0.63       187\n",
      "\n",
      "    accuracy                           0.57       498\n",
      "   macro avg       0.56      0.56      0.56       498\n",
      "weighted avg       0.57      0.57      0.57       498\n",
      "\n"
     ]
    },
    {
     "data": {
      "image/png": "[encoded data removed]",
      "text/plain": [
       "<Figure size 576x432 with 2 Axes>"
      ]
     },
     "metadata": {
      "needs_background": "light"
     },
     "output_type": "display_data"
    }
   ],
   "source": [
    "decision_tree = DecisionTreeClassifier(max_depth=50, min_samples_split= 2 ,\n",
    "                                       min_samples_leaf= 1,max_features = 5, \n",
    "                                       class_weight = 'balanced', criterion = 'entropy',\n",
    "                                       splitter = 'random')\n",
    "\n",
    "Aplicar_Modelo(decision_tree, 'Decision Tree Classifier',x_train, y_train, x_test, y_test)"
   ]
  },
  {
   "cell_type": "markdown",
   "metadata": {},
   "source": [
    "#### Random Forest"
   ]
  },
  {
   "cell_type": "code",
   "execution_count": 40,
   "metadata": {},
   "outputs": [
    {
     "name": "stdout",
     "output_type": "stream",
     "text": [
      "******Modelo: Random Forest******\n",
      "              precision    recall  f1-score   support\n",
      "\n",
      "         0.0       0.62      0.71      0.66       189\n",
      "         1.0       0.56      0.36      0.44       122\n",
      "         2.0       0.66      0.71      0.68       187\n",
      "\n",
      "    accuracy                           0.63       498\n",
      "   macro avg       0.61      0.60      0.60       498\n",
      "weighted avg       0.62      0.63      0.62       498\n",
      "\n"
     ]
    },
    {
     "data": {
      "image/png": "[encoded data removed]",
      "text/plain": [
       "<Figure size 576x432 with 2 Axes>"
      ]
     },
     "metadata": {
      "needs_background": "light"
     },
     "output_type": "display_data"
    }
   ],
   "source": [
    "random_forest = RandomForestClassifier(n_estimators=100)\n",
    "\n",
    "Aplicar_Modelo(random_forest, 'Random Forest',x_train, y_train, x_test, y_test)"
   ]
  },
  {
   "cell_type": "code",
   "execution_count": 42,
   "metadata": {},
   "outputs": [
    {
     "name": "stdout",
     "output_type": "stream",
     "text": [
      "******Modelo: Random Forest******\n",
      "              precision    recall  f1-score   support\n",
      "\n",
      "         0.0       0.61      0.71      0.66       189\n",
      "         1.0       0.61      0.43      0.50       122\n",
      "         2.0       0.65      0.67      0.66       187\n",
      "\n",
      "    accuracy                           0.63       498\n",
      "   macro avg       0.62      0.60      0.61       498\n",
      "weighted avg       0.63      0.63      0.62       498\n",
      "\n"
     ]
    },
    {
     "data": {
      "image/png": "[encoded data removed]",
      "text/plain": [
       "<Figure size 576x432 with 2 Axes>"
      ]
     },
     "metadata": {
      "needs_background": "light"
     },
     "output_type": "display_data"
    }
   ],
   "source": [
    "random_forest = RandomForestClassifier(n_estimators=200, class_weight= 'balanced', bootstrap= True,\n",
    "                                       oob_score = True, max_depth=20, min_samples_split= 2, \n",
    "                                       min_samples_leaf= 1,max_features = 5)\n",
    "\n",
    "Aplicar_Modelo(random_forest, 'Random Forest',x_train, y_train, x_test, y_test)"
   ]
  },
  {
   "cell_type": "markdown",
   "metadata": {},
   "source": [
    "##### Grid Search Random Forest"
   ]
  },
  {
   "cell_type": "code",
   "execution_count": null,
   "metadata": {},
   "outputs": [],
   "source": [
    "random_forest = RandomForestClassifier()\n",
    "\n",
    "param_grid = {\n",
    "    'n_estimators': [100, 150, 200, 250, 300, 350],\n",
    "    'max_depth': [None, 5,10,15, 20, 25, 30],\n",
    "    'min_samples_split': [2, 5, 6, 7, 8, 9, 10, 11, 12, 13, 15,20],\n",
    "    'min_samples_leaf': [1, 2, 4, 5, 6, 7, 8, 9, 10],\n",
    "    'criterion': ['gini', 'entropy'],\n",
    "    'bootstrap': [True, False]\n",
    "}\n",
    "\n",
    "\n",
    "grid = GridSearchCV(estimator=random_forest, param_grid=param_grid, scoring='accuracy', cv=3)\n",
    "grid_result = grid.fit(x_train, y_train) \n",
    "print(\"Mejor: %f usando %s\" % (grid_result.best_score_, grid_result.best_params_))"
   ]
  },
  {
   "cell_type": "markdown",
   "metadata": {},
   "source": [
    "Mejor: 0.546369 usando {'bootstrap': True, 'criterion': 'entropy', 'max_depth': None, 'min_samples_leaf': 6, 'min_samples_split': 20, 'n_estimators': 200}"
   ]
  },
  {
   "cell_type": "markdown",
   "metadata": {},
   "source": [
    "### Redes neuronales"
   ]
  },
  {
   "cell_type": "markdown",
   "metadata": {},
   "source": [
    "##### Datos"
   ]
  },
  {
   "cell_type": "markdown",
   "metadata": {},
   "source": [
    "Cargo los datos nuevamente y separo en train:valid:test 80:10:10"
   ]
  },
  {
   "cell_type": "code",
   "execution_count": 16,
   "metadata": {},
   "outputs": [],
   "source": [
    "datos=np.loadtxt('..\\Archivos\\data_req_inc_3.csv',delimiter=',',skiprows=1, usecols=(0,1,2,3,4,5,6,7,9,10,11,12,13))\n",
    "\n",
    "x=datos[:,0:-1]\n",
    "\n",
    "y=datos[:,-1]\n",
    "\n",
    "x_train, x_test, y_train, y_test = train_test_split(x, y, test_size=0.2, random_state=162, stratify=y)\n",
    "x_val, x_test, y_val, y_test = train_test_split(x_test, y_test, test_size=0.5, random_state=162, stratify=y_test)\n",
    "\n",
    "scaler = StandardScaler()\n",
    "scaler.fit(x_train)\n",
    "x_train= scaler.transform(x_train)\n",
    "x_test = scaler.transform(x_test)\n",
    "x_val = scaler.transform(x_val)\n",
    "\n",
    "y_train_one_hot = to_categorical(y_train, num_classes=3)\n",
    "y_val_one_hot = to_categorical(y_val, num_classes=3)\n",
    "y_test_one_hot = to_categorical(y_test, num_classes=3)"
   ]
  },
  {
   "cell_type": "markdown",
   "metadata": {},
   "source": [
    "Observo las dimensiones."
   ]
  },
  {
   "cell_type": "code",
   "execution_count": 7,
   "metadata": {},
   "outputs": [
    {
     "name": "stdout",
     "output_type": "stream",
     "text": [
      "(1991, 12)\n",
      "(249, 12)\n",
      "(249, 12)\n",
      "(1991, 3)\n",
      "(249, 3)\n"
     ]
    }
   ],
   "source": [
    "print(x_train.shape)\n",
    "print(x_test.shape)\n",
    "print(x_val.shape)\n",
    "\n",
    "print(y_train_one_hot.shape)\n",
    "print(y_test_one_hot.shape)"
   ]
  },
  {
   "cell_type": "code",
   "execution_count": 145,
   "metadata": {},
   "outputs": [
    {
     "data": {
      "text/plain": [
       "DAYS_RANGE\n",
       "0    946\n",
       "2    932\n",
       "1    611\n",
       "Name: count, dtype: int64"
      ]
     },
     "execution_count": 145,
     "metadata": {},
     "output_type": "execute_result"
    }
   ],
   "source": [
    "datos_1 = pd.read_csv('..\\Archivos\\data_req_inc_3.csv', delimiter=',',encoding = 'latin-1')\n",
    "conteo_clases = datos_1['DAYS_RANGE'].value_counts()\n",
    "conteo_clases"
   ]
  },
  {
   "cell_type": "markdown",
   "metadata": {},
   "source": [
    "##### Entrenamiento y evaluación"
   ]
  },
  {
   "cell_type": "markdown",
   "metadata": {},
   "source": [
    "Defino varias estructuras de redes neuronales para el entrenamiento."
   ]
  },
  {
   "cell_type": "code",
   "execution_count": 147,
   "metadata": {},
   "outputs": [],
   "source": [
    "#Modelo 1\n",
    "\n",
    "M = 1\n",
    "\n",
    "model = keras.Sequential()\n",
    "model.add(keras.layers.Dense(64, input_dim=x_train.shape[1], activation='relu'))\n",
    "model.add(keras.layers.Dense(128, activation='relu'))\n",
    "model.add(keras.layers.Dense(64, activation='relu'))\n",
    "model.add(keras.layers.Dropout(0.2))\n",
    "model.add(keras.layers.Dense(3, activation='softmax')) \n",
    "\n",
    "initial_learning_rate = 0.001  \n",
    "lr_schedule = tf.keras.optimizers.schedules.ExponentialDecay(\n",
    "    initial_learning_rate, decay_steps=1000, decay_rate=0.9, staircase=True\n",
    ")\n",
    "\n",
    "model.compile(loss='categorical_crossentropy', optimizer=tf.keras.optimizers.Adam(learning_rate=lr_schedule), metrics=['accuracy', Precision(), Recall()])\n",
    "\n",
    "\n",
    "\n"
   ]
  },
  {
   "cell_type": "code",
   "execution_count": 35,
   "metadata": {},
   "outputs": [],
   "source": [
    "#Modelo 2\n",
    "\n",
    "M = 2\n",
    "\n",
    "model = keras.Sequential()\n",
    "model.add(keras.layers.Dense(64, input_dim=x_train.shape[1], activation='relu'))\n",
    "model.add(keras.layers.Dense(128, activation='relu'))\n",
    "model.add(keras.layers.Dropout(0.4))\n",
    "model.add(keras.layers.Dense(128, activation='relu'))\n",
    "model.add(keras.layers.Dropout(0.1))\n",
    "model.add(keras.layers.Dense(64, activation='relu')) \n",
    "model.add(keras.layers.Dropout(0.3))\n",
    "model.add(keras.layers.Dense(3, activation='softmax')) \n",
    "\n",
    "\n",
    "initial_learning_rate = 0.001 \n",
    "lr_schedule = tf.keras.optimizers.schedules.ExponentialDecay(\n",
    "    initial_learning_rate, decay_steps=1000, decay_rate=0.9, staircase=True\n",
    ")\n",
    "\n",
    "model.compile(loss='categorical_crossentropy', optimizer=tf.keras.optimizers.Adam(learning_rate=lr_schedule), metrics=['accuracy', Precision(), Recall()])\n",
    "\n",
    "\n"
   ]
  },
  {
   "cell_type": "code",
   "execution_count": 153,
   "metadata": {},
   "outputs": [],
   "source": [
    "#Modelo 3\n",
    "\n",
    "M = 3\n",
    "\n",
    "model = keras.Sequential()\n",
    "model.add(keras.layers.Dense(64, input_dim=x_train.shape[1], activation='relu'))\n",
    "model.add(keras.layers.Dense(128, activation='relu'))\n",
    "model.add(keras.layers.Dropout(0.2))\n",
    "model.add(keras.layers.Dense(128, activation='relu'))\n",
    "model.add(keras.layers.Dropout(0.4))\n",
    "model.add(keras.layers.Dense(64, activation='relu')) \n",
    "model.add(keras.layers.Dense(3, activation='softmax')) \n",
    "\n",
    "\n",
    "initial_learning_rate = 0.001\n",
    "lr_schedule = tf.keras.optimizers.schedules.ExponentialDecay(\n",
    "    initial_learning_rate, decay_steps=1000, decay_rate=0.9, staircase=True\n",
    ")\n",
    "\n",
    "model.compile(loss='categorical_crossentropy', optimizer=tf.keras.optimizers.Adam(learning_rate=lr_schedule), metrics=['accuracy', Precision(), Recall()])\n",
    "\n"
   ]
  },
  {
   "cell_type": "code",
   "execution_count": 155,
   "metadata": {},
   "outputs": [],
   "source": [
    "#Modelo 4\n",
    "\n",
    "M = 4\n",
    "\n",
    "model = keras.Sequential()\n",
    "model.add(keras.layers.Dense(64, input_dim=x_train.shape[1], activation='relu'))\n",
    "model.add(keras.layers.Dense(128, activation='relu'))\n",
    "model.add(keras.layers.Dropout(0.2))\n",
    "model.add(keras.layers.Dense(64, activation='relu'))\n",
    "model.add(keras.layers.Dropout(0.3))\n",
    "model.add(keras.layers.Dense(3, activation='softmax')) \n",
    "\n",
    "\n",
    "initial_learning_rate = 0.001\n",
    "lr_schedule = tf.keras.optimizers.schedules.ExponentialDecay(\n",
    "    initial_learning_rate, decay_steps=1000, decay_rate=0.9, staircase=True\n",
    ")\n",
    "\n",
    "model.compile(loss='categorical_crossentropy', optimizer=tf.keras.optimizers.Adam(learning_rate=lr_schedule), metrics=['accuracy', Precision(), Recall()])\n",
    "\n"
   ]
  },
  {
   "cell_type": "code",
   "execution_count": 158,
   "metadata": {},
   "outputs": [],
   "source": [
    "#Modelo 5\n",
    "\n",
    "M = 5\n",
    "\n",
    "model = keras.Sequential()\n",
    "model.add(keras.layers.Dense(64, input_dim=x_train.shape[1], activation='relu'))\n",
    "model.add(keras.layers.Dense(128, activation='relu'))\n",
    "model.add(keras.layers.Dropout(0.4))\n",
    "model.add(keras.layers.Dense(128, activation='relu',\n",
    "                            kernel_regularizer=regularizers.l2(0.01), bias_regularizer=regularizers.l2(0.01)))\n",
    "model.add(keras.layers.Dense(64, activation='relu')) \n",
    "model.add(keras.layers.Dropout(0.3))\n",
    "model.add(keras.layers.Dense(3, activation='softmax'))\n",
    "\n",
    "initial_learning_rate = 0.001 \n",
    "lr_schedule = tf.keras.optimizers.schedules.ExponentialDecay(\n",
    "    initial_learning_rate, decay_steps=1000, decay_rate=0.9, staircase=True\n",
    ")\n",
    "\n",
    "model.compile(loss='categorical_crossentropy', optimizer=tf.keras.optimizers.Adam(learning_rate=lr_schedule), metrics=['accuracy', Precision(), Recall()])\n"
   ]
  },
  {
   "cell_type": "code",
   "execution_count": 160,
   "metadata": {},
   "outputs": [],
   "source": [
    "#Modelo 6\n",
    "M = 6\n",
    "\n",
    "model = keras.Sequential()\n",
    "model.add(keras.layers.Dense(64, input_dim=x_train.shape[1], activation='relu'))\n",
    "model.add(keras.layers.Dense(128, activation='relu'))\n",
    "model.add(keras.layers.Dropout(0.05))\n",
    "model.add(keras.layers.Dense(128, activation='relu'))\n",
    "#model.add(keras.layers.Dropout(0.05))\n",
    "model.add(keras.layers.Dense(128, activation='relu')) \n",
    "model.add(keras.layers.Dropout(0.05))\n",
    "model.add(keras.layers.Dense(3, activation='softmax')) \n",
    "\n",
    "initial_learning_rate = 0.001 \n",
    "lr_schedule = tf.keras.optimizers.schedules.ExponentialDecay(\n",
    "    initial_learning_rate, decay_steps=1000, decay_rate=0.9, staircase=True\n",
    ")\n",
    "\n",
    "model.compile(loss='categorical_crossentropy', optimizer=tf.keras.optimizers.Adam(learning_rate=lr_schedule), metrics=['accuracy', Precision(), Recall()])\n"
   ]
  },
  {
   "cell_type": "code",
   "execution_count": 38,
   "metadata": {},
   "outputs": [],
   "source": [
    "#Modelo 9\n",
    "\n",
    "M = 9\n",
    "\n",
    "i = 0\n",
    "\n",
    "model = keras.Sequential()\n",
    "model.add(keras.layers.Dense(128, input_dim=x_train.shape[1], activation='relu'))\n",
    "model.add(keras.layers.Dense(128, activation='relu'))\n",
    "model.add(tf.keras.layers.AlphaDropout(0.10)) \n",
    "model.add(keras.layers.Dense(128, activation='relu')) \n",
    "model.add(keras.layers.Dense(128, activation='relu'))\n",
    "model.add(tf.keras.layers.AlphaDropout(0.05)) \n",
    "model.add(keras.layers.Dense(128, activation='relu')) \n",
    "model.add(keras.layers.Dense(128, activation='relu'))\n",
    "model.add(tf.keras.layers.AlphaDropout(0.05)) \n",
    "model.add(keras.layers.Dense(3, activation='softmax')) \n",
    "\n",
    "initial_learning_rate = 0.001 \n",
    "lr_schedule = tf.keras.optimizers.schedules.ExponentialDecay(\n",
    "    initial_learning_rate, decay_steps=1000, decay_rate=0.9, staircase=True\n",
    ")\n",
    "\n",
    "model.compile(loss='categorical_crossentropy', optimizer=tf.keras.optimizers.Adam(learning_rate=lr_schedule), metrics=['accuracy', 'Precision', 'Recall'])\n"
   ]
  },
  {
   "cell_type": "code",
   "execution_count": 41,
   "metadata": {},
   "outputs": [],
   "source": [
    "#Modelo 12\n",
    "\n",
    "M = 12\n",
    "\n",
    "i = 0\n",
    "\n",
    "model = keras.Sequential()\n",
    "model.add(keras.layers.Dense(64, input_dim=x_train.shape[1], activation='relu'))\n",
    "model.add(keras.layers.Dense(64, activation='relu'))\n",
    "model.add(tf.keras.layers.Dropout(0.3)) \n",
    "model.add(keras.layers.Dense(64, activation='relu',\n",
    "                            kernel_regularizer=regularizers.l2(0.01), bias_regularizer=regularizers.l2(0.01))) \n",
    "model.add(keras.layers.Dense(64, activation='relu',\n",
    "                            kernel_regularizer=regularizers.l2(0.01), bias_regularizer=regularizers.l2(0.01)))\n",
    "model.add(tf.keras.layers.Dropout(0.3)) \n",
    "model.add(keras.layers.Dense(64, activation='relu')) \n",
    "model.add(keras.layers.Dense(64, activation='relu'))\n",
    "model.add(tf.keras.layers.Dropout(0.3)) \n",
    "model.add(keras.layers.Dense(3, activation='softmax')) \n",
    "\n",
    "initial_learning_rate = 0.001 \n",
    "lr_schedule = tf.keras.optimizers.schedules.ExponentialDecay(\n",
    "    initial_learning_rate, decay_steps=1000, decay_rate=0.9, staircase=True\n",
    ")\n",
    "\n",
    "model.compile(loss='categorical_crossentropy', optimizer=tf.keras.optimizers.Adam(learning_rate=lr_schedule), metrics=['accuracy', 'Precision', 'Recall'])\n"
   ]
  },
  {
   "cell_type": "markdown",
   "metadata": {},
   "source": [
    "Fit normal"
   ]
  },
  {
   "cell_type": "code",
   "execution_count": null,
   "metadata": {},
   "outputs": [],
   "source": [
    "f = 1 #Fit normal \n",
    "epoc = 1000\n",
    "batch = 256\n",
    "\n",
    "hist = model.fit(x_train, y_train_one_hot, epochs=epoc, batch_size=batch,validation_data=(x_val, y_val_one_hot))"
   ]
  },
  {
   "cell_type": "markdown",
   "metadata": {},
   "source": [
    "Fit con peso en la categoría que más le cuesta '6-15'"
   ]
  },
  {
   "cell_type": "code",
   "execution_count": null,
   "metadata": {},
   "outputs": [],
   "source": [
    "f = 2 #Fit con peso en la categoría que cuesta más\n",
    "\n",
    "\n",
    "#Fit con peso en la clase que le cuesta más\n",
    "\n",
    "#{'<5': 0, '6-15': 1, '16<' : 2}\n",
    "\n",
    "class_weights = {\n",
    "    0: 1.0,   \n",
    "    1: 2.0,  \n",
    "    2: 1.0\n",
    "}\n",
    "\n",
    "epoc = 500\n",
    "batch = 256\n",
    "\n",
    "\n",
    "model.fit(x_train, y_train_one_hot, epochs=epoc, batch_size=batch,validation_data=(x_val, y_val_one_hot),\n",
    "          class_weight=class_weights)"
   ]
  },
  {
   "cell_type": "markdown",
   "metadata": {},
   "source": [
    "Fit con peso en la clase que le cuesta más y early stopping"
   ]
  },
  {
   "cell_type": "code",
   "execution_count": null,
   "metadata": {},
   "outputs": [],
   "source": [
    "f = 3 #Fit con peso en la clase que le cuesta más y early stopping\n",
    "\n",
    "\n",
    "#Fit con peso en la clase que le cuesta más\n",
    "\n",
    "#{'<5': 0, '6-15': 1, '16<'\n",
    "\n",
    "class_weights = {\n",
    "    0: 1.0,   \n",
    "    1: 2.0,  \n",
    "    2: 1.0\n",
    "}\n",
    "\n",
    "epoc = 1000\n",
    "batch = 256\n",
    "\n",
    "early_stopping = EarlyStopping(monitor='val_accuracy', patience=2000, restore_best_weights=True)\n",
    "\n",
    "model.fit(x_train, y_train_one_hot, epochs=epoc, batch_size=batch,validation_data=(x_val, y_val_one_hot),\n",
    "          class_weight=class_weights, callbacks=[early_stopping])"
   ]
  },
  {
   "cell_type": "code",
   "execution_count": 43,
   "metadata": {},
   "outputs": [
    {
     "name": "stdout",
     "output_type": "stream",
     "text": [
      "MODELO: 12 - FIT: 2\n",
      "Epochs = 500 - Batch Size = 256\n",
      "1/8 [==>...........................] - ETA: 0s - loss: 1.8752 - accuracy: 0.5000 - precision: 0.5161 - recall: 0.5000"
     ]
    },
    {
     "name": "stdout",
     "output_type": "stream",
     "text": [
      "8/8 [==============================] - 0s 2ms/step - loss: 1.9709 - accuracy: 0.5261 - precision: 0.5331 - recall: 0.5181\n",
      "8/8 [==============================] - 0s 2ms/step\n",
      "Loss: 1.97\n",
      "Accuracy: 0.53\n",
      "Precision: 0.53\n",
      "Recall: 0.52\n",
      "F1 Score: 0.53\n",
      "              precision    recall  f1-score   support\n",
      "\n",
      "          <5       0.58      0.60      0.59        94\n",
      "        5-15       0.38      0.44      0.41        61\n",
      "         15<       0.59      0.51      0.55        94\n",
      "\n",
      "    accuracy                           0.53       249\n",
      "   macro avg       0.52      0.52      0.51       249\n",
      "weighted avg       0.54      0.53      0.53       249\n",
      "\n"
     ]
    },
    {
     "data": {
      "image/png": "[encoded data removed]",
      "text/plain": [
       "<Figure size 576x432 with 2 Axes>"
      ]
     },
     "metadata": {
      "needs_background": "light"
     },
     "output_type": "display_data"
    }
   ],
   "source": [
    "#Evaluación\n",
    "\n",
    "print(f'MODELO: {M} - FIT: {f}')\n",
    "print(f'Epochs = {epoc} - Batch Size = {batch}')\n",
    "\n",
    "evaluation = model.evaluate(x_test, y_test_one_hot)\n",
    "y_pred = model.predict(x_test)\n",
    "\n",
    "y_pred = np.argmax(y_pred, axis=1)\n",
    "\n",
    "targets = ['<5', '5-15', '15<']\n",
    "\n",
    "print(f\"Loss: {evaluation[0]:.2f}\")\n",
    "print(f\"Accuracy: {evaluation[1]:.2f}\")\n",
    "print(f\"Precision: {evaluation[2]:.2f}\")\n",
    "print(f\"Recall: {evaluation[3]:.2f}\")\n",
    "\n",
    "f1_score = 2 * (evaluation[2] * evaluation[3]) / (evaluation[2] + evaluation[3])\n",
    "\n",
    "print(f\"F1 Score: {f1_score:.2f}\")\n",
    "\n",
    "\n",
    "report = classification_report(y_test, y_pred, target_names=targets)\n",
    "\n",
    "print(report)\n",
    "\n",
    "conf_matrix = confusion_matrix(y_test, y_pred)\n",
    "\n",
    "plt.figure(figsize=(8, 6))\n",
    "sns.heatmap(conf_matrix, annot=True, fmt=\"d\", cmap=\"Blues\")\n",
    "plt.xlabel(\"Clase Predicha\")\n",
    "plt.ylabel(\"Clase Real\")\n",
    "plt.title(\"Matriz de Confusión\")\n",
    "    \n",
    "plt.show()"
   ]
  },
  {
   "cell_type": "markdown",
   "metadata": {},
   "source": [
    "### Clasificación + SMOTE"
   ]
  },
  {
   "cell_type": "markdown",
   "metadata": {},
   "source": [
    "AUMENTO un 40% la clase con menos registros, que es la que más le cuesta detectar. La clase 6-15 pasará de 611 a 850. Esos 239 datos extra forman solo el 8,75% de los datos finales"
   ]
  },
  {
   "cell_type": "markdown",
   "metadata": {},
   "source": [
    "#### Aumento de datos "
   ]
  },
  {
   "cell_type": "markdown",
   "metadata": {},
   "source": [
    "Agrego datos sintéticos a la clase '6-15' ya que es la que menos registros de ejemplo contiene"
   ]
  },
  {
   "cell_type": "code",
   "execution_count": 17,
   "metadata": {},
   "outputs": [],
   "source": [
    "smote = SMOTE(sampling_strategy={1: 850}, random_state=191215) \n",
    "\n",
    "X_resampled, y_resampled = smote.fit_resample(x, y)\n",
    "\n"
   ]
  },
  {
   "cell_type": "markdown",
   "metadata": {},
   "source": [
    "Divido el conjunto en train:test:valid 80:10:10"
   ]
  },
  {
   "cell_type": "code",
   "execution_count": 18,
   "metadata": {},
   "outputs": [],
   "source": [
    "x_train_r, x_test_r1, y_train_r, y_test_r1 = train_test_split(X_resampled, y_resampled, test_size=0.20, random_state=12, stratify=y_resampled)\n",
    "\n",
    "x_val_r, x_test_r, y_val_r, y_test_r = train_test_split(x_test_r1, y_test_r1, test_size=0.5, random_state=15, stratify= y_test_r1)\n",
    "\n",
    "scaler = StandardScaler()\n",
    "scaler.fit(x_train_r)\n",
    "\n",
    "x_train_s_r = scaler.transform(x_train_r)\n",
    "x_test_s_r = scaler.transform(x_test_r)\n",
    "x_val_s_r = scaler.transform(x_val_r)\n",
    "\n",
    "y_train_one_hot_r = to_categorical(y_train_r, num_classes=3)\n",
    "y_val_one_hot_r = to_categorical(y_val_r, num_classes=3)\n",
    "y_test_one_hot_r = to_categorical(y_test_r, num_classes=3)"
   ]
  },
  {
   "cell_type": "markdown",
   "metadata": {},
   "source": [
    "Exploro la cantidad de registros en el nuevo dataset con datos aumentados en la clase 1"
   ]
  },
  {
   "cell_type": "code",
   "execution_count": 52,
   "metadata": {},
   "outputs": [
    {
     "name": "stdout",
     "output_type": "stream",
     "text": [
      "DAYS_RANGE\n",
      "0.0    946\n",
      "2.0    932\n",
      "1.0    850\n",
      "Name: count, dtype: int64\n"
     ]
    }
   ],
   "source": [
    "datos_smote = pd.DataFrame(X_resampled)\n",
    "\n",
    "datos_smote.columns = ['Requester', 'Ticket Type', 'Requester Group', 'Priority', 'Impact', 'Category', 'Requester City', 'End User', 'Data Model',\n",
    "          'Requester Country', 'Week Day', 'Open Date']\n",
    "\n",
    "datos_smote['DAYS_RANGE'] = y_resampled  \n",
    "\n",
    "conteo_clases = datos_smote['DAYS_RANGE'].value_counts()\n",
    "\n",
    "\n",
    "print(conteo_clases)"
   ]
  },
  {
   "cell_type": "markdown",
   "metadata": {},
   "source": [
    "Cantidad de registros por clase en el conjunto de entrenamiento"
   ]
  },
  {
   "cell_type": "code",
   "execution_count": 47,
   "metadata": {},
   "outputs": [
    {
     "name": "stdout",
     "output_type": "stream",
     "text": [
      "DAYS_RANGE\n",
      "0.0    757\n",
      "2.0    745\n",
      "1.0    680\n",
      "Name: count, dtype: int64\n"
     ]
    }
   ],
   "source": [
    "datos_smote = pd.DataFrame(x_train_r)\n",
    "\n",
    "datos_smote.columns = ['Requester', 'Ticket Type', 'Requester Group', 'Priority', 'Impact', 'Category', 'Requester City', 'End User', 'Data Model',\n",
    "          'Requester Country', 'Week Day', 'Open Date']\n",
    "\n",
    "datos_smote['DAYS_RANGE'] = y_train_r  \n",
    "\n",
    "conteo_clases = datos_smote['DAYS_RANGE'].value_counts()\n",
    "\n",
    "\n",
    "print(conteo_clases)"
   ]
  },
  {
   "cell_type": "markdown",
   "metadata": {},
   "source": [
    "Cantidad de registros por clase en el conjunto de test"
   ]
  },
  {
   "cell_type": "code",
   "execution_count": 48,
   "metadata": {},
   "outputs": [
    {
     "name": "stdout",
     "output_type": "stream",
     "text": [
      "DAYS_RANGE\n",
      "2.0    94\n",
      "0.0    94\n",
      "1.0    85\n",
      "Name: count, dtype: int64\n"
     ]
    }
   ],
   "source": [
    "datos_smote = pd.DataFrame(x_test_r)\n",
    "\n",
    "datos_smote.columns = ['Requester', 'Ticket Type', 'Requester Group', 'Priority', 'Impact', 'Category', 'Requester City', 'End User', 'Data Model',\n",
    "          'Requester Country', 'Week Day', 'Open Date'] \n",
    "\n",
    "datos_smote['DAYS_RANGE'] = y_test_r  \n",
    "\n",
    "conteo_clases = datos_smote['DAYS_RANGE'].value_counts()\n",
    "\n",
    "print(conteo_clases)"
   ]
  },
  {
   "cell_type": "markdown",
   "metadata": {},
   "source": [
    "#### Redes Neuronales"
   ]
  },
  {
   "cell_type": "markdown",
   "metadata": {},
   "source": [
    "Entrenamiento y evaluación con diferentes estructuras y configuraciones"
   ]
  },
  {
   "cell_type": "code",
   "execution_count": 404,
   "metadata": {},
   "outputs": [],
   "source": [
    "#Modelo 6\n",
    "M = 6\n",
    "\n",
    "i = 0\n",
    "\n",
    "total_epochs = 0\n",
    "\n",
    "\n",
    "model = keras.Sequential()\n",
    "model.add(keras.layers.Dense(64, input_dim=x_train_s_r.shape[1], activation='relu'))\n",
    "model.add(keras.layers.Dense(128, activation='relu'))\n",
    "model.add(keras.layers.Dense(128, activation='relu'))\n",
    "model.add(keras.layers.Dense(128, activation='relu')) \n",
    "model.add(keras.layers.Dropout(0.05))\n",
    "model.add(keras.layers.Dense(3, activation='softmax')) \n",
    "\n",
    "initial_learning_rate = 0.001 \n",
    "lr_schedule = tf.keras.optimizers.schedules.ExponentialDecay(\n",
    "    initial_learning_rate, decay_steps=1000, decay_rate=0.9, staircase=True\n",
    ")\n",
    "\n",
    "model.compile(loss='categorical_crossentropy', optimizer=tf.keras.optimizers.Adam(learning_rate=lr_schedule), metrics=['accuracy', 'Precision', 'Recall'])\n"
   ]
  },
  {
   "cell_type": "code",
   "execution_count": 440,
   "metadata": {},
   "outputs": [],
   "source": [
    "#Modelo 7\n",
    "M = 7\n",
    "\n",
    "i = 0\n",
    "\n",
    "total_epochs = 0\n",
    "\n",
    "\n",
    "model = keras.Sequential()\n",
    "model.add(keras.layers.Dense(128, input_dim=x_train_s_r.shape[1], activation='relu'))\n",
    "model.add(keras.layers.Dense(128, activation='relu'))\n",
    "model.add(keras.layers.Dense(128, activation='relu')) \n",
    "model.add(tf.keras.layers.AlphaDropout(0.05)) \n",
    "model.add(keras.layers.Dense(3, activation='softmax')) \n",
    "\n",
    "initial_learning_rate = 0.001 \n",
    "lr_schedule = tf.keras.optimizers.schedules.ExponentialDecay(\n",
    "    initial_learning_rate, decay_steps=1000, decay_rate=0.9, staircase=True\n",
    ")\n",
    "\n",
    "model.compile(loss='categorical_crossentropy', optimizer=tf.keras.optimizers.Adam(learning_rate=lr_schedule), metrics=['accuracy', 'Precision', 'Recall'])\n"
   ]
  },
  {
   "cell_type": "code",
   "execution_count": 272,
   "metadata": {},
   "outputs": [],
   "source": [
    "#Modelo 8\n",
    "M = 8\n",
    "\n",
    "i = 0\n",
    "\n",
    "total_epochs = 0\n",
    "\n",
    "\n",
    "model = keras.Sequential()\n",
    "model.add(keras.layers.Dense(128, input_dim=x_train_s_r.shape[1], activation='relu'))\n",
    "model.add(keras.layers.Dense(128, activation='relu'))\n",
    "model.add(tf.keras.layers.AlphaDropout(0.2)) \n",
    "model.add(keras.layers.Dense(128, activation='relu')) \n",
    "model.add(keras.layers.Dense(128, activation='relu'))\n",
    "model.add(tf.keras.layers.AlphaDropout(0.2)) \n",
    "model.add(keras.layers.Dense(3, activation='softmax')) \n",
    "\n",
    "initial_learning_rate = 0.001 \n",
    "lr_schedule = tf.keras.optimizers.schedules.ExponentialDecay(\n",
    "    initial_learning_rate, decay_steps=1000, decay_rate=0.9, staircase=True\n",
    ")\n",
    "\n",
    "model.compile(loss='categorical_crossentropy', optimizer=tf.keras.optimizers.Adam(learning_rate=lr_schedule), metrics=['accuracy', 'Precision', 'Recall'])\n"
   ]
  },
  {
   "cell_type": "code",
   "execution_count": 358,
   "metadata": {},
   "outputs": [],
   "source": [
    "#Modelo 9\n",
    "\n",
    "M = 9\n",
    "\n",
    "i = 0\n",
    "\n",
    "total_epochs = 0\n",
    "\n",
    "model = keras.Sequential()\n",
    "model.add(keras.layers.Dense(128, input_dim=x_train_s_r.shape[1], activation='relu'))\n",
    "model.add(keras.layers.Dense(128, activation='relu'))\n",
    "model.add(tf.keras.layers.AlphaDropout(0.10)) \n",
    "model.add(keras.layers.Dense(128, activation='relu')) \n",
    "model.add(keras.layers.Dense(128, activation='relu'))\n",
    "model.add(tf.keras.layers.AlphaDropout(0.05)) \n",
    "model.add(keras.layers.Dense(128, activation='relu')) \n",
    "model.add(keras.layers.Dense(128, activation='relu'))\n",
    "model.add(tf.keras.layers.AlphaDropout(0.05)) \n",
    "model.add(keras.layers.Dense(3, activation='softmax')) \n",
    "\n",
    "initial_learning_rate = 0.001 \n",
    "lr_schedule = tf.keras.optimizers.schedules.ExponentialDecay(\n",
    "    initial_learning_rate, decay_steps=1000, decay_rate=0.9, staircase=True\n",
    ")\n",
    "\n",
    "model.compile(loss='categorical_crossentropy', optimizer=tf.keras.optimizers.Adam(learning_rate=lr_schedule), metrics=['accuracy', 'Precision', 'Recall'])\n"
   ]
  },
  {
   "cell_type": "code",
   "execution_count": 341,
   "metadata": {},
   "outputs": [],
   "source": [
    "#Modelo 10\n",
    "\n",
    "M = 10\n",
    "\n",
    "i = 0\n",
    "\n",
    "total_epochs = 0\n",
    "\n",
    "model = keras.Sequential()\n",
    "model.add(keras.layers.Dense(128, input_dim=x_train_s_r.shape[1], activation='relu'))\n",
    "model.add(keras.layers.Dense(128, activation='relu'))\n",
    "model.add(tf.keras.layers.Dropout(0.4)) \n",
    "model.add(keras.layers.Dense(128, activation='relu')) \n",
    "model.add(keras.layers.Dense(128, activation='relu'))\n",
    "model.add(tf.keras.layers.Dropout(0.4)) \n",
    "model.add(keras.layers.Dense(128, activation='relu')) \n",
    "model.add(keras.layers.Dense(128, activation='relu'))\n",
    "model.add(tf.keras.layers.Dropout(0.3)) \n",
    "model.add(keras.layers.Dense(3, activation='softmax')) \n",
    "\n",
    "initial_learning_rate = 0.001 \n",
    "lr_schedule = tf.keras.optimizers.schedules.ExponentialDecay(\n",
    "    initial_learning_rate, decay_steps=1000, decay_rate=0.9, staircase=True\n",
    ")\n",
    "\n",
    "model.compile(loss='categorical_crossentropy', optimizer=tf.keras.optimizers.Adam(learning_rate=lr_schedule), metrics=['accuracy', 'Precision', 'Recall'])\n"
   ]
  },
  {
   "cell_type": "code",
   "execution_count": 345,
   "metadata": {},
   "outputs": [],
   "source": [
    "#Modelo 11\n",
    "\n",
    "M = 11\n",
    "\n",
    "i = 0\n",
    "\n",
    "total_epochs = 0\n",
    "\n",
    "model = keras.Sequential()\n",
    "model.add(keras.layers.Dense(128, input_dim=x_train_s_r.shape[1], activation='relu'))\n",
    "model.add(keras.layers.Dense(128, activation='relu'))\n",
    "model.add(tf.keras.layers.Dropout(0.3)) \n",
    "model.add(keras.layers.Dense(256, activation='relu',\n",
    "                            kernel_regularizer=regularizers.l2(0.01), bias_regularizer=regularizers.l2(0.01))) \n",
    "model.add(keras.layers.Dense(256, activation='relu',\n",
    "                            kernel_regularizer=regularizers.l2(0.01), bias_regularizer=regularizers.l2(0.01)))\n",
    "model.add(tf.keras.layers.Dropout(0.3)) \n",
    "model.add(keras.layers.Dense(128, activation='relu')) \n",
    "model.add(keras.layers.Dense(128, activation='relu'))\n",
    "model.add(tf.keras.layers.Dropout(0.3)) \n",
    "model.add(keras.layers.Dense(3, activation='softmax')) \n",
    "\n",
    "initial_learning_rate = 0.001 \n",
    "lr_schedule = tf.keras.optimizers.schedules.ExponentialDecay(\n",
    "    initial_learning_rate, decay_steps=1000, decay_rate=0.9, staircase=True\n",
    ")\n",
    "\n",
    "model.compile(loss='categorical_crossentropy', optimizer=tf.keras.optimizers.Adam(learning_rate=lr_schedule), metrics=['accuracy', 'Precision', 'Recall'])\n"
   ]
  },
  {
   "cell_type": "code",
   "execution_count": 2511,
   "metadata": {},
   "outputs": [],
   "source": [
    "#Modelo 12\n",
    "\n",
    "M = 12\n",
    "\n",
    "i = 0\n",
    "\n",
    "total_epochs = 0\n",
    "\n",
    "model = keras.Sequential()\n",
    "model.add(keras.layers.Dense(64, input_dim=x_train_s_r.shape[1], activation='relu'))\n",
    "model.add(keras.layers.Dense(64, activation='relu'))\n",
    "model.add(tf.keras.layers.Dropout(0.3)) \n",
    "model.add(keras.layers.Dense(64, activation='relu',\n",
    "                            kernel_regularizer=regularizers.l2(0.01), bias_regularizer=regularizers.l2(0.01))) \n",
    "model.add(keras.layers.Dense(64, activation='relu',\n",
    "                            kernel_regularizer=regularizers.l2(0.01), bias_regularizer=regularizers.l2(0.01)))\n",
    "model.add(tf.keras.layers.Dropout(0.3)) \n",
    "model.add(keras.layers.Dense(64, activation='relu')) \n",
    "model.add(keras.layers.Dense(64, activation='relu'))\n",
    "model.add(tf.keras.layers.Dropout(0.3)) \n",
    "model.add(keras.layers.Dense(3, activation='softmax')) \n",
    "\n",
    "initial_learning_rate = 0.001 \n",
    "lr_schedule = tf.keras.optimizers.schedules.ExponentialDecay(\n",
    "    initial_learning_rate, decay_steps=1000, decay_rate=0.9, staircase=True\n",
    ")\n",
    "\n",
    "model.compile(loss='categorical_crossentropy', optimizer=tf.keras.optimizers.Adam(learning_rate=lr_schedule), metrics=['accuracy', 'Precision', 'Recall'])\n"
   ]
  },
  {
   "cell_type": "code",
   "execution_count": 364,
   "metadata": {},
   "outputs": [],
   "source": [
    "#Modelo 13\n",
    "\n",
    "#Modelo 9 con regularización l2\n",
    "\n",
    "M = 13\n",
    "\n",
    "i = 0\n",
    "\n",
    "total_epochs = 0\n",
    "\n",
    "model = keras.Sequential()\n",
    "model.add(keras.layers.Dense(128, input_dim=x_train_s_r.shape[1], activation='relu'))\n",
    "model.add(keras.layers.Dense(128, activation='relu'))\n",
    "model.add(tf.keras.layers.AlphaDropout(0.10)) \n",
    "model.add(keras.layers.Dense(256, activation='relu',\n",
    "                            kernel_regularizer=regularizers.l2(0.01), bias_regularizer=regularizers.l2(0.01))) \n",
    "model.add(keras.layers.Dense(128, activation='relu')) \n",
    "model.add(keras.layers.Dense(128, activation='relu'))\n",
    "model.add(tf.keras.layers.AlphaDropout(0.05)) \n",
    "model.add(keras.layers.Dense(3, activation='softmax')) \n",
    "\n",
    "initial_learning_rate = 0.001 \n",
    "lr_schedule = tf.keras.optimizers.schedules.ExponentialDecay(\n",
    "    initial_learning_rate, decay_steps=1000, decay_rate=0.9, staircase=True\n",
    ")\n",
    "\n",
    "model.compile(loss='categorical_crossentropy', optimizer=tf.keras.optimizers.Adam(learning_rate=lr_schedule), metrics=['accuracy', 'Precision', 'Recall'])\n"
   ]
  },
  {
   "cell_type": "code",
   "execution_count": 761,
   "metadata": {},
   "outputs": [],
   "source": [
    "#Modelo 14\n",
    "\n",
    "M = 14\n",
    "\n",
    "i = 0\n",
    "\n",
    "total_epochs = 0\n",
    "\n",
    "model = keras.Sequential()\n",
    "model.add(keras.layers.Dense(128, input_dim=x_train_s_r.shape[1], activation='relu'))\n",
    "model.add(keras.layers.BatchNormalization())\n",
    "model.add(keras.layers.Dense(128, activation='relu'))\n",
    "model.add(tf.keras.layers.AlphaDropout(0.25)) \n",
    "model.add(keras.layers.Dense(128, activation='relu')) \n",
    "model.add(keras.layers.Dense(128, activation='relu'))\n",
    "model.add(tf.keras.layers.AlphaDropout(0.25)) \n",
    "model.add(keras.layers.Dense(128, activation='relu')) \n",
    "model.add(keras.layers.Dense(128, activation='relu'))\n",
    "model.add(tf.keras.layers.AlphaDropout(0.25)) \n",
    "model.add(keras.layers.Dense(3, activation='softmax')) \n",
    "\n",
    "initial_learning_rate = 0.001 \n",
    "lr_schedule = tf.keras.optimizers.schedules.ExponentialDecay(\n",
    "    initial_learning_rate, decay_steps=1000, decay_rate=0.9, staircase=True\n",
    ")\n",
    "\n",
    "model.compile(loss='categorical_crossentropy', optimizer=tf.keras.optimizers.Adam(learning_rate=lr_schedule), metrics=['accuracy', 'Precision', 'Recall'])\n"
   ]
  },
  {
   "cell_type": "code",
   "execution_count": 2503,
   "metadata": {},
   "outputs": [],
   "source": [
    "#Modelo 15\n",
    "\n",
    "M = 15\n",
    "\n",
    "i = 0\n",
    "\n",
    "total_epochs = 0\n",
    "\n",
    "\n",
    "model = keras.Sequential()\n",
    "model.add(keras.layers.Dense(64, input_dim=x_train_s_r.shape[1], activation='relu'))\n",
    "model.add(keras.layers.Dense(128, activation='relu'))\n",
    "model.add(keras.layers.Dense(128, activation='relu'))\n",
    "model.add(keras.layers.Dense(128, activation='relu')) \n",
    "model.add(keras.layers.AlphaDropout(0.05))\n",
    "model.add(keras.layers.Dense(3, activation='softmax')) \n",
    "\n",
    "initial_learning_rate = 0.001 \n",
    "lr_schedule = tf.keras.optimizers.schedules.ExponentialDecay(\n",
    "    initial_learning_rate, decay_steps=1000, decay_rate=0.9, staircase=True\n",
    ")\n",
    "\n",
    "model.compile(loss='categorical_crossentropy', optimizer=tf.keras.optimizers.Adam(learning_rate=lr_schedule), metrics=['accuracy', 'Precision', 'Recall'])\n"
   ]
  },
  {
   "cell_type": "code",
   "execution_count": 2507,
   "metadata": {},
   "outputs": [],
   "source": [
    "#Modelo 16\n",
    "\n",
    "M = 16\n",
    "\n",
    "i = 0\n",
    "\n",
    "total_epochs = 0\n",
    "\n",
    "model = keras.Sequential()\n",
    "model.add(keras.layers.Dense(64, input_dim=x_train_s_r.shape[1], activation='relu'))\n",
    "model.add(keras.layers.Dense(128, activation='relu')) \n",
    "model.add(keras.layers.Dense(128, activation='relu')) \n",
    "model.add(keras.layers.Dense(64, activation='relu'))\n",
    "model.add(tf.keras.layers.Dropout(0.1)) \n",
    "model.add(keras.layers.Dense(3, activation='softmax')) \n",
    "\n",
    "initial_learning_rate = 0.001 \n",
    "lr_schedule = tf.keras.optimizers.schedules.ExponentialDecay(\n",
    "    initial_learning_rate, decay_steps=1000, decay_rate=0.9, staircase=True\n",
    ")\n",
    "\n",
    "model.compile(loss='categorical_crossentropy', optimizer=tf.keras.optimizers.Adam(learning_rate=lr_schedule), metrics=['accuracy', 'Precision', 'Recall'])\n"
   ]
  },
  {
   "cell_type": "markdown",
   "metadata": {},
   "source": [
    "Definición del epoch y batch size"
   ]
  },
  {
   "cell_type": "code",
   "execution_count": 762,
   "metadata": {},
   "outputs": [],
   "source": [
    "epoc = 1000\n",
    "batch = 64"
   ]
  },
  {
   "cell_type": "markdown",
   "metadata": {},
   "source": [
    "Fit normal con devolución de métricas"
   ]
  },
  {
   "cell_type": "code",
   "execution_count": 2143,
   "metadata": {},
   "outputs": [
    {
     "name": "stdout",
     "output_type": "stream",
     "text": [
      "MODELO: 14 - FIT: 1\n",
      "Epochs = 2000 - Batch Size = 64\n",
      "Re-train: 1\n",
      "##############################\n",
      "TRAIN\n",
      "Accuracy: 0.84\n",
      "Precision: 0.86\n",
      "Recall: 0.80\n",
      "F1 Score: 0.83\n",
      "##############################\n",
      "VALIDATION\n",
      "Accuracy: 0.56\n",
      "Precision: 0.57\n",
      "Recall: 0.55\n",
      "F1 Score: 0.56\n"
     ]
    }
   ],
   "source": [
    "f = 1 #Fit normal\n",
    "\n",
    "i= i + 1\n",
    "\n",
    "total_epochs = total_epochs + epoc\n",
    "\n",
    "h = model.fit(x_train_s_r, y_train_one_hot_r, epochs=epoc, batch_size=batch,validation_data=(x_val_s_r, y_val_one_hot_r), verbose = 0)\n",
    "\n",
    "\n",
    "final_accuracy = h.history['accuracy'][-1]\n",
    "final_precision = h.history['precision'][-1]\n",
    "final_recall = h.history['recall'][-1]\n",
    "final_f1_score = 2 * (final_precision * final_recall) / (final_precision + final_recall)\n",
    "\n",
    "final_val_accuracy = h.history['val_accuracy'][-1]  \n",
    "final_val_precision = h.history['val_precision'][-1]\n",
    "final_val_recall = h.history['val_recall'][-1]\n",
    "final_val_f1_score = 2 * (final_val_precision * final_val_recall) / (final_val_precision + final_val_recall)\n",
    "\n",
    "print(f'MODELO: {M} - FIT: {f}')\n",
    "print(f'Epochs = {total_epochs} - Batch Size = {batch}')\n",
    "\n",
    "\n",
    "print(f'Re-train: {i}')\n",
    "\n",
    "print('#'*30)\n",
    "\n",
    "print('TRAIN')\n",
    "\n",
    "print(f'Accuracy: {final_accuracy:0.2f}')\n",
    "print(f'Precision: {final_precision:0.2f}')\n",
    "print(f'Recall: {final_recall:0.2f}')\n",
    "print(f'F1 Score: {final_f1_score:0.2f}')\n",
    "\n",
    "print('#'*30)\n",
    "\n",
    "print('VALIDATION')\n",
    "\n",
    "\n",
    "print(f'Accuracy: {final_val_accuracy:0.2f}')\n",
    "print(f'Precision: {final_val_precision:0.2f}')\n",
    "print(f'Recall: {final_val_recall:0.2f}')\n",
    "print(f'F1 Score: {final_val_f1_score:0.2f}')"
   ]
  },
  {
   "cell_type": "markdown",
   "metadata": {},
   "source": [
    "Fit con restauración de pesos al mejor validation accuracy. Es una función que tiene una funcionalidad parecida a Early Stopping."
   ]
  },
  {
   "cell_type": "code",
   "execution_count": null,
   "metadata": {},
   "outputs": [],
   "source": [
    "f = 2 #Fit con restauración de pesos al mejor validation accuracy\n",
    "\n",
    "print(f'MODELO: {M} - FIT: {f}')\n",
    "total_epochs = total_epochs + epoc\n",
    "\n",
    "best_val_accu = 0  \n",
    "best_weights = None  \n",
    "\n",
    "for epoch in range(epoc + 1):  \n",
    "    history = model.fit(x_train_s_r, y_train_one_hot_r, epochs=1, batch_size=batch, validation_data=(x_val_s_r, y_val_one_hot_r), verbose=0)\n",
    "\n",
    "\n",
    "    val_accu = history.history['val_accuracy'][0]\n",
    "    val_pre = history.history['val_precision'][0]\n",
    "    val_rec= history.history['val_recall'][0]\n",
    "    accu = history.history['accuracy'][0]\n",
    "    pre = history.history['precision'][0]\n",
    "    rec = history.history['recall'][0]\n",
    "    \n",
    "\n",
    "    if val_accu > best_val_accu: \n",
    "        best_val_accu = val_accu\n",
    "        best_val_accu_pre = val_pre\n",
    "        best_val_accu_rec = val_rec\n",
    "        \n",
    "        best_val_accu_t_accu = accu\n",
    "        best_val_accu_t_pre = pre\n",
    "        best_val_accu_t_rec = rec  \n",
    "        best_weights = model.get_weights() \n",
    "\n",
    "    if val_accu < best_val_accu - 0.05:  \n",
    "        model.set_weights(best_weights)  \n",
    "    \n",
    "    \n",
    "    \n",
    "    print(f\"Epoch {epoch} :Val Accu {best_val_accu:0.4f} | Train Accu {best_val_accu_t_accu:0.4f}\")\n",
    "\n",
    "model.set_weights(best_weights)\n",
    "\n",
    "final_accuracy = best_val_accu_t_accu\n",
    "final_precision = best_val_accu_t_pre\n",
    "final_recall = best_val_accu_t_rec\n",
    "final_f1_score = 2 * (final_precision * final_recall) / (final_precision + final_recall)\n",
    "\n",
    "final_val_accuracy = best_val_accu  \n",
    "final_val_precision = best_val_accu_pre\n",
    "final_val_recall = best_val_accu_rec\n",
    "final_val_f1_score = 2 * (final_val_precision * final_val_recall) / (final_val_precision + final_val_recall)\n",
    "\n"
   ]
  },
  {
   "cell_type": "markdown",
   "metadata": {},
   "source": [
    "Resumen del fit\n",
    "\n",
    "MODELO: 14 - FIT: 2\n",
    "\n",
    "Epoch 0 :Val Accu 0.3480 | Train Accu 0.3391\n",
    "\n",
    "Epoch 1 :Val Accu 0.4103 | Train Accu 0.3396\n",
    "\n",
    "Epoch 2 :Val Accu 0.4469 | Train Accu 0.3332\n",
    "\n",
    "Epoch 3 :Val Accu 0.4579 | Train Accu 0.3547\n",
    "\n",
    "...\n",
    "\n",
    "Epoch 997 :Val Accu 0.6374 | Train Accu 0.7860\n",
    "\n",
    "Epoch 998 :Val Accu 0.6374 | Train Accu 0.7860\n",
    "\n",
    "Epoch 999 :Val Accu 0.6374 | Train Accu 0.7860\n",
    "\n",
    "Epoch 1000 :Val Accu 0.6374 | Train Accu 0.7860"
   ]
  },
  {
   "cell_type": "markdown",
   "metadata": {},
   "source": [
    "Evaluación del modelo"
   ]
  },
  {
   "cell_type": "code",
   "execution_count": 810,
   "metadata": {},
   "outputs": [
    {
     "name": "stdout",
     "output_type": "stream",
     "text": [
      "MODELO: 14 - FIT: 2\n",
      "Epochs = 1000 - Batch Size = 64\n",
      "Trains: 0\n",
      "##############################\n",
      "TRAIN\n",
      "Accuracy: 0.79\n",
      "Precision: 0.83\n",
      "Recall: 0.75\n",
      "F1 Score: 0.78\n",
      "##############################\n",
      "VALIDATION\n",
      "Accuracy: 0.64\n",
      "Precision: 0.63\n",
      "Recall: 0.60\n",
      "F1 Score: 0.62\n",
      "##############################\n",
      "TEST\n",
      "9/9 [==============================] - 0s 2ms/step\n",
      "Loss: 3.23\n",
      "Accuracy: 0.64\n",
      "Precision: 0.65\n",
      "Recall: 0.64\n",
      "F1 Score: 0.65\n",
      "              precision    recall  f1-score   support\n",
      "\n",
      "          <5       0.66      0.66      0.66        95\n",
      "        5-15       0.65      0.65      0.65        85\n",
      "         15<       0.62      0.62      0.62        93\n",
      "\n",
      "    accuracy                           0.64       273\n",
      "   macro avg       0.64      0.64      0.64       273\n",
      "weighted avg       0.64      0.64      0.64       273\n",
      "\n"
     ]
    },
    {
     "data": {
      "image/png": "[encoded data removed]",
      "text/plain": [
       "<Figure size 576x432 with 2 Axes>"
      ]
     },
     "metadata": {
      "needs_background": "light"
     },
     "output_type": "display_data"
    }
   ],
   "source": [
    "#Evaluación\n",
    "\n",
    "print(f'MODELO: {M} - FIT: {f}')\n",
    "print(f'Epochs = {total_epochs} - Batch Size = {batch}')\n",
    "\n",
    "print(f'Trains: {i}')\n",
    "\n",
    "print('#'*30)\n",
    "\n",
    "print('TRAIN')\n",
    "\n",
    "print(f'Accuracy: {final_accuracy:0.2f}')\n",
    "print(f'Precision: {final_precision:0.2f}')\n",
    "print(f'Recall: {final_recall:0.2f}')\n",
    "print(f'F1 Score: {final_f1_score:0.2f}')\n",
    "\n",
    "print('#'*30)\n",
    "\n",
    "print('VALIDATION')\n",
    "\n",
    "\n",
    "print(f'Accuracy: {final_val_accuracy:0.2f}')\n",
    "print(f'Precision: {final_val_precision:0.2f}')\n",
    "print(f'Recall: {final_val_recall:0.2f}')\n",
    "print(f'F1 Score: {final_val_f1_score:0.2f}')\n",
    "\n",
    "print('#'*30)\n",
    "\n",
    "print('TEST')\n",
    "\n",
    "evaluation = model.evaluate(x_test_s_r, y_test_one_hot_r, verbose = 0)\n",
    "\n",
    "y_pred = model.predict(x_test_s_r)\n",
    "\n",
    "y_pred = np.argmax(y_pred, axis=1)\n",
    "\n",
    "targets = ['<5', '5-15', '15<']\n",
    "\n",
    "print(f\"Loss: {evaluation[0]:.2f}\")\n",
    "print(f\"Accuracy: {evaluation[1]:.2f}\")\n",
    "print(f\"Precision: {evaluation[2]:.2f}\")\n",
    "print(f\"Recall: {evaluation[3]:.2f}\")\n",
    "\n",
    "f1_score = 2 * (evaluation[2] * evaluation[3]) / (evaluation[2] + evaluation[3])\n",
    "\n",
    "print(f\"F1 Score: {f1_score:.2f}\")\n",
    "\n",
    "\n",
    "report = classification_report(y_test_r, y_pred, target_names=targets)\n",
    "\n",
    "print(report)\n",
    "\n",
    "conf_matrix = confusion_matrix(y_test_r, y_pred)\n",
    "\n",
    "plt.figure(figsize=(8, 6))\n",
    "sns.heatmap(conf_matrix, annot=True, fmt=\"d\", cmap=\"Blues\")\n",
    "plt.xlabel(\"Clase Predicha\")\n",
    "plt.ylabel(\"Clase Real\")\n",
    "plt.title(\"Matriz de Confusión\")\n",
    "    \n",
    "plt.show()"
   ]
  },
  {
   "cell_type": "markdown",
   "metadata": {},
   "source": [
    "Hay un error en la salida de la evaluación en el nombre de las clases.\n",
    "\n",
    "5-15 debería ser 6-15\n",
    "\n",
    "15< debería ser 16<"
   ]
  },
  {
   "cell_type": "code",
   "execution_count": 811,
   "metadata": {},
   "outputs": [
    {
     "name": "stderr",
     "output_type": "stream",
     "text": [
      "d:\\Program Files\\Python\\Python310\\lib\\site-packages\\keras\\src\\engine\\training.py:3000: UserWarning: You are saving your model as an HDF5 file via `model.save()`. This file format is considered legacy. We recommend using instead the native Keras format, e.g. `model.save('my_model.keras')`.\n",
      "  saving_api.save_model(\n"
     ]
    }
   ],
   "source": [
    "#Guardado de modelos\n",
    "#ruta = '../Archivos/nn_new_4_r'\n",
    "#model.save(f'{ruta}_M{M}_loss_{evaluation[0]:.2f}_acc_{evaluation[1]:.2f}_pre_{evaluation[2]:.2f}_rec_{evaluation[3]:.2f}_f1_{f1_score:.2f}.h5')"
   ]
  },
  {
   "cell_type": "markdown",
   "metadata": {},
   "source": [
    "#### Random Forest"
   ]
  },
  {
   "cell_type": "markdown",
   "metadata": {},
   "source": [
    "Realizo entrenamiento con Random Forest que fue el modelo de clasificación que mejor aprendió las características de los datos ahora con datos aumentados."
   ]
  },
  {
   "cell_type": "markdown",
   "metadata": {},
   "source": [
    "##### Modelo 1"
   ]
  },
  {
   "cell_type": "markdown",
   "metadata": {},
   "source": [
    "De entrada con configuraciones sencillas ya da un accuracy mayor a las redes neuronales en su mejor modelo."
   ]
  },
  {
   "cell_type": "code",
   "execution_count": 768,
   "metadata": {},
   "outputs": [
    {
     "name": "stdout",
     "output_type": "stream",
     "text": [
      "******Modelo: Random Forest******\n",
      "              precision    recall  f1-score   support\n",
      "\n",
      "         0.0       0.67      0.75      0.71       189\n",
      "         1.0       0.68      0.68      0.68       170\n",
      "         2.0       0.72      0.64      0.67       187\n",
      "\n",
      "    accuracy                           0.69       546\n",
      "   macro avg       0.69      0.69      0.69       546\n",
      "weighted avg       0.69      0.69      0.69       546\n",
      "\n"
     ]
    },
    {
     "data": {
      "image/png": "[encoded data removed]",
      "text/plain": [
       "<Figure size 576x432 with 2 Axes>"
      ]
     },
     "metadata": {
      "needs_background": "light"
     },
     "output_type": "display_data"
    }
   ],
   "source": [
    "random_forest = RandomForestClassifier(n_estimators=200)\n",
    "\n",
    "mod = Aplicar_Modelo(random_forest, 'Random Forest',x_train_r, y_train_r, x_test_r1, y_test_r1)"
   ]
  },
  {
   "cell_type": "markdown",
   "metadata": {},
   "source": [
    "##### Modelo 2"
   ]
  },
  {
   "cell_type": "code",
   "execution_count": 779,
   "metadata": {},
   "outputs": [
    {
     "name": "stdout",
     "output_type": "stream",
     "text": [
      "******Modelo: Random Forest******\n",
      "              precision    recall  f1-score   support\n",
      "\n",
      "         0.0       0.69      0.73      0.71       189\n",
      "         1.0       0.68      0.67      0.67       170\n",
      "         2.0       0.71      0.67      0.69       187\n",
      "\n",
      "    accuracy                           0.69       546\n",
      "   macro avg       0.69      0.69      0.69       546\n",
      "weighted avg       0.69      0.69      0.69       546\n",
      "\n"
     ]
    },
    {
     "data": {
      "image/png": "[encoded data removed]",
      "text/plain": [
       "<Figure size 576x432 with 2 Axes>"
      ]
     },
     "metadata": {
      "needs_background": "light"
     },
     "output_type": "display_data"
    }
   ],
   "source": [
    "random_forest = RandomForestClassifier(n_estimators=100)\n",
    "\n",
    "mod = Aplicar_Modelo(random_forest, 'Random Forest',x_train_r, y_train_r, x_test_r1, y_test_r1)"
   ]
  },
  {
   "cell_type": "markdown",
   "metadata": {},
   "source": [
    "##### Modelo 3"
   ]
  },
  {
   "cell_type": "code",
   "execution_count": 809,
   "metadata": {},
   "outputs": [
    {
     "name": "stdout",
     "output_type": "stream",
     "text": [
      "              precision    recall  f1-score   support\n",
      "\n",
      "         0.0       0.69      0.74      0.71       189\n",
      "         1.0       0.71      0.62      0.66       170\n",
      "         2.0       0.67      0.70      0.68       187\n",
      "\n",
      "    accuracy                           0.69       546\n",
      "   macro avg       0.69      0.69      0.69       546\n",
      "weighted avg       0.69      0.69      0.69       546\n",
      "\n"
     ]
    },
    {
     "data": {
      "text/plain": [
       "Text(0.5, 1.0, 'Matriz de Confusión')"
      ]
     },
     "execution_count": 809,
     "metadata": {},
     "output_type": "execute_result"
    },
    {
     "data": {
      "image/png": "[encoded data removed]",
      "text/plain": [
       "<Figure size 576x432 with 2 Axes>"
      ]
     },
     "metadata": {
      "needs_background": "light"
     },
     "output_type": "display_data"
    }
   ],
   "source": [
    "random_forest2 = RandomForestClassifier(n_estimators=100, n_jobs = 3, min_samples_split = 4, min_samples_leaf = 2)\n",
    "\n",
    "random_forest2.fit(x_train_r, y_train_r)\n",
    "\n",
    "y_pred_r = random_forest2.predict(x_test_r1)\n",
    "\n",
    "\n",
    "class_report = classification_report(y_test_r1, y_pred_r)\n",
    "\n",
    "print(class_report)\n",
    "\n",
    "conf_matrix = confusion_matrix(y_test_r1, y_pred_r)\n",
    "\n",
    "plt.figure(figsize=(8, 6))\n",
    "sns.heatmap(conf_matrix, annot=True, fmt=\"d\", cmap=\"Blues\")\n",
    "plt.xlabel(\"Clase Predicha\")\n",
    "plt.ylabel(\"Clase Real\")\n",
    "plt.title(\"Matriz de Confusión\")\n"
   ]
  },
  {
   "cell_type": "markdown",
   "metadata": {},
   "source": [
    "##### Modelo 4"
   ]
  },
  {
   "cell_type": "markdown",
   "metadata": {},
   "source": [
    "Finalmente elijo este modelo ya que llegó al accuracy mínimo que cosidero como 'bueno' para la clasificación, teniendo en cuenta la complejidad de los datos."
   ]
  },
  {
   "cell_type": "code",
   "execution_count": 757,
   "metadata": {},
   "outputs": [
    {
     "name": "stdout",
     "output_type": "stream",
     "text": [
      "              precision    recall  f1-score   support\n",
      "\n",
      "         0.0       0.69      0.74      0.71       189\n",
      "         1.0       0.72      0.64      0.68       170\n",
      "         2.0       0.69      0.72      0.70       187\n",
      "\n",
      "    accuracy                           0.70       546\n",
      "   macro avg       0.70      0.70      0.70       546\n",
      "weighted avg       0.70      0.70      0.70       546\n",
      "\n"
     ]
    },
    {
     "data": {
      "text/plain": [
       "Text(0.5, 1.0, 'Matriz de Confusión')"
      ]
     },
     "execution_count": 757,
     "metadata": {},
     "output_type": "execute_result"
    },
    {
     "data": {
      "image/png": "[encoded data removed]",
      "text/plain": [
       "<Figure size 576x432 with 2 Axes>"
      ]
     },
     "metadata": {
      "needs_background": "light"
     },
     "output_type": "display_data"
    }
   ],
   "source": [
    "random_forest2 = RandomForestClassifier(n_estimators=200, n_jobs = 3, min_samples_split = 3, min_samples_leaf = 2,\n",
    "                                        criterion = 'entropy')\n",
    "\n",
    "random_forest2.fit(x_train_r, y_train_r)\n",
    "\n",
    "y_pred_r = random_forest2.predict(x_test_r1)\n",
    "\n",
    "\n",
    "class_report = classification_report(y_test_r1, y_pred_r)\n",
    "\n",
    "print(class_report)\n",
    "\n",
    "conf_matrix = confusion_matrix(y_test_r1, y_pred_r)\n",
    "\n",
    "plt.figure(figsize=(8, 6))\n",
    "sns.heatmap(conf_matrix, annot=True, fmt=\"d\", cmap=\"Blues\")\n",
    "plt.xlabel(\"Clase Predicha\")\n",
    "plt.ylabel(\"Clase Real\")\n",
    "plt.title(\"Matriz de Confusión\")\n"
   ]
  },
  {
   "cell_type": "markdown",
   "metadata": {},
   "source": [
    "Guardo el modelo con los parámetros que mejor generalizaron el conjunto de test."
   ]
  },
  {
   "cell_type": "code",
   "execution_count": null,
   "metadata": {},
   "outputs": [],
   "source": [
    "#dump(random_forest2, '..\\Archivos\\modelo_random_forest_accu_0.71_pre_0.71_rec_0.70_f1_0.71.joblib')"
   ]
  },
  {
   "cell_type": "markdown",
   "metadata": {},
   "source": [
    "Lo cargo ya que en memoria quedó otro"
   ]
  },
  {
   "cell_type": "code",
   "execution_count": 19,
   "metadata": {},
   "outputs": [],
   "source": [
    "random_forest = load(r'..\\Archivos\\modelo_random_forest_accu_0.71_pre_0.71_rec_0.70_f1_0.71.joblib')"
   ]
  },
  {
   "cell_type": "code",
   "execution_count": 438,
   "metadata": {},
   "outputs": [
    {
     "name": "stdout",
     "output_type": "stream",
     "text": [
      "              precision    recall  f1-score   support\n",
      "\n",
      "         0.0       0.72      0.71      0.72       189\n",
      "         1.0       0.73      0.63      0.68       170\n",
      "         2.0       0.68      0.77      0.72       187\n",
      "\n",
      "    accuracy                           0.71       546\n",
      "   macro avg       0.71      0.70      0.71       546\n",
      "weighted avg       0.71      0.71      0.71       546\n",
      "\n"
     ]
    },
    {
     "data": {
      "image/png": "[encoded data removed]",
      "text/plain": [
       "<Figure size 576x432 with 2 Axes>"
      ]
     },
     "metadata": {
      "needs_background": "light"
     },
     "output_type": "display_data"
    }
   ],
   "source": [
    "y_pred_r = random_forest.predict(x_test_r1)\n",
    "\n",
    "\n",
    "class_report = classification_report(y_test_r1, y_pred_r)\n",
    "\n",
    "print(class_report)\n",
    "\n",
    "conf_matrix = confusion_matrix(y_test_r1, y_pred_r)\n",
    "\n",
    "plt.figure(figsize=(8, 6))\n",
    "sns.heatmap(conf_matrix, annot=True, fmt=\"d\", cmap=\"Blues\")\n",
    "plt.xlabel(\"Clase Predicha\")\n",
    "plt.ylabel(\"Clase Real\")\n",
    "plt.title(\"Matriz de Confusión\")\n",
    "plt.savefig('..\\img\\Random_forest_test_performance_cm.png', bbox_inches='tight', pad_inches=0.2, facecolor='white')\n",
    "\n"
   ]
  },
  {
   "cell_type": "code",
   "execution_count": 43,
   "metadata": {},
   "outputs": [
    {
     "data": {
      "text/html": [
       "<div>\n",
       "<style scoped>\n",
       "    .dataframe tbody tr th:only-of-type {\n",
       "        vertical-align: middle;\n",
       "    }\n",
       "\n",
       "    .dataframe tbody tr th {\n",
       "        vertical-align: top;\n",
       "    }\n",
       "\n",
       "    .dataframe thead th {\n",
       "        text-align: right;\n",
       "    }\n",
       "</style>\n",
       "<table border=\"1\" class=\"dataframe\">\n",
       "  <thead>\n",
       "    <tr style=\"text-align: right;\">\n",
       "      <th></th>\n",
       "      <th>Característica</th>\n",
       "      <th>Importancia %</th>\n",
       "    </tr>\n",
       "  </thead>\n",
       "  <tbody>\n",
       "    <tr>\n",
       "      <th>0</th>\n",
       "      <td>Requester</td>\n",
       "      <td>3.12</td>\n",
       "    </tr>\n",
       "    <tr>\n",
       "      <th>1</th>\n",
       "      <td>Ticket Type</td>\n",
       "      <td>3.99</td>\n",
       "    </tr>\n",
       "    <tr>\n",
       "      <th>2</th>\n",
       "      <td>Requester Group</td>\n",
       "      <td>2.27</td>\n",
       "    </tr>\n",
       "    <tr>\n",
       "      <th>3</th>\n",
       "      <td>Priority</td>\n",
       "      <td>7.88</td>\n",
       "    </tr>\n",
       "    <tr>\n",
       "      <th>4</th>\n",
       "      <td>Impact</td>\n",
       "      <td>2.03</td>\n",
       "    </tr>\n",
       "    <tr>\n",
       "      <th>5</th>\n",
       "      <td>Category</td>\n",
       "      <td>12.43</td>\n",
       "    </tr>\n",
       "    <tr>\n",
       "      <th>6</th>\n",
       "      <td>Requester City</td>\n",
       "      <td>8.61</td>\n",
       "    </tr>\n",
       "    <tr>\n",
       "      <th>7</th>\n",
       "      <td>End User</td>\n",
       "      <td>15.48</td>\n",
       "    </tr>\n",
       "    <tr>\n",
       "      <th>8</th>\n",
       "      <td>Data Model</td>\n",
       "      <td>8.05</td>\n",
       "    </tr>\n",
       "    <tr>\n",
       "      <th>9</th>\n",
       "      <td>Requester Country</td>\n",
       "      <td>6.93</td>\n",
       "    </tr>\n",
       "    <tr>\n",
       "      <th>10</th>\n",
       "      <td>Week Day</td>\n",
       "      <td>19.95</td>\n",
       "    </tr>\n",
       "    <tr>\n",
       "      <th>11</th>\n",
       "      <td>Open Date</td>\n",
       "      <td>9.25</td>\n",
       "    </tr>\n",
       "  </tbody>\n",
       "</table>\n",
       "</div>"
      ],
      "text/plain": [
       "       Característica  Importancia %\n",
       "0           Requester           3.12\n",
       "1         Ticket Type           3.99\n",
       "2     Requester Group           2.27\n",
       "3            Priority           7.88\n",
       "4              Impact           2.03\n",
       "5            Category          12.43\n",
       "6      Requester City           8.61\n",
       "7            End User          15.48\n",
       "8          Data Model           8.05\n",
       "9   Requester Country           6.93\n",
       "10           Week Day          19.95\n",
       "11          Open Date           9.25"
      ]
     },
     "execution_count": 43,
     "metadata": {},
     "output_type": "execute_result"
    }
   ],
   "source": [
    "feature_importance = random_forest.feature_importances_\n",
    "\n",
    "features_names = ['Requester', 'Ticket Type', 'Requester Group', 'Priority', 'Impact', 'Category', 'Requester City', 'End User', 'Data Model',\n",
    "          'Requester Country', 'Week Day', 'Open Date'] \n",
    "\n",
    "features = pd.DataFrame(features_names)\n",
    "\n",
    "features.columns = ['Característica']\n",
    "\n",
    "features['Importancia %'] = feature_importance * 100\n",
    "\n",
    "features.round(2)"
   ]
  },
  {
   "cell_type": "code",
   "execution_count": 31,
   "metadata": {},
   "outputs": [],
   "source": []
  }
 ],
 "metadata": {
  "kernelspec": {
   "display_name": "Python 3",
   "language": "python",
   "name": "python3"
  },
  "language_info": {
   "codemirror_mode": {
    "name": "ipython",
    "version": 3
   },
   "file_extension": ".py",
   "mimetype": "text/x-python",
   "name": "python",
   "nbconvert_exporter": "python",
   "pygments_lexer": "ipython3",
   "version": "3.10.4"
  }
 },
 "nbformat": 4,
 "nbformat_minor": 2
}
